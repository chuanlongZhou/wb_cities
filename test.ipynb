{
 "cells": [
  {
   "cell_type": "code",
   "execution_count": 1,
   "metadata": {},
   "outputs": [],
   "source": [
    "%load_ext autoreload\n",
    "%autoreload 2"
   ]
  },
  {
   "cell_type": "code",
   "execution_count": 2,
   "metadata": {},
   "outputs": [],
   "source": [
    "import warnings\n",
    "warnings.simplefilter(action='ignore', category=FutureWarning)"
   ]
  },
  {
   "cell_type": "code",
   "execution_count": 52,
   "metadata": {},
   "outputs": [],
   "source": [
    "import os\n",
    "import json\n",
    "import numpy as np\n",
    "import pickle\n",
    "import pandas as pd\n",
    "import geopandas\n",
    "import matplotlib.pyplot as plt\n",
    "import contextily as cx\n",
    "import folium\n",
    "from tqdm import trange, tqdm\n",
    "\n",
    "from polygon_compare import *"
   ]
  },
  {
   "cell_type": "code",
   "execution_count": 62,
   "metadata": {},
   "outputs": [
    {
     "name": "stdout",
     "output_type": "stream",
     "text": [
      "(1999, 11)\n"
     ]
    },
    {
     "name": "stderr",
     "output_type": "stream",
     "text": [
      "201it [00:14, 14.35it/s]9 [00:14<02:02, 14.63it/s]\n",
      " 10%|█         | 202/1999 [00:14<02:04, 14.42it/s]\n",
      "0it [00:00, ?it/s]/1930 [00:00<05:03,  6.36it/s]\n",
      "  0%|          | 1/1930 [00:00<05:05,  6.32it/s]\n"
     ]
    }
   ],
   "source": [
    "cities = [\n",
    "    'Ordu',\n",
    "    # 'Manisa',\n",
    "    # 'Adana',\n",
    "    \n",
    "    # 'Johannesburg',\n",
    "    # 'Cairo',\n",
    "    # 'Trabzon',\n",
    "]\n",
    "\n",
    "for c in cities:\n",
    "    city_osm = os.path.join(\"data\",\"OSM\",f\"{c}.pkl\")\n",
    "    df_osm = pickle.load(open(city_osm,\"rb\"))\n",
    "    df_osm_b = df_osm[df_osm[\"type\"]==\"way\"]\n",
    "    \n",
    "    city_osmb = os.path.join(\"data\",\"OSMB\",f\"{c}.pkl\")\n",
    "    df_osmb = pickle.load(open(city_osmb,\"rb\"))\n",
    "    df_osmb = df_osmb.set_crs('EPSG:4326')\n",
    "    \n",
    "    print(df_osmb.shape)\n",
    "\n",
    "    df = compare_geodf2(df_osmb, df_osm_b, match_one=True)\n",
    "    # df.plot()\n",
    "    # df.to_pickle(f'{c}_combined_osm.pkl')"
   ]
  },
  {
   "cell_type": "code",
   "execution_count": 16,
   "metadata": {},
   "outputs": [
    {
     "data": {
      "text/html": [
       "<div>\n",
       "<style scoped>\n",
       "    .dataframe tbody tr th:only-of-type {\n",
       "        vertical-align: middle;\n",
       "    }\n",
       "\n",
       "    .dataframe tbody tr th {\n",
       "        vertical-align: top;\n",
       "    }\n",
       "\n",
       "    .dataframe thead th {\n",
       "        text-align: right;\n",
       "    }\n",
       "</style>\n",
       "<table border=\"1\" class=\"dataframe\">\n",
       "  <thead>\n",
       "    <tr style=\"text-align: right;\">\n",
       "      <th></th>\n",
       "      <th>geometry</th>\n",
       "      <th>orient</th>\n",
       "      <th>height</th>\n",
       "      <th>type</th>\n",
       "      <th>levels</th>\n",
       "      <th>name</th>\n",
       "      <th>roofMaterial</th>\n",
       "      <th>roofShape</th>\n",
       "      <th>roofDirection</th>\n",
       "      <th>roofColor</th>\n",
       "      <th>building</th>\n",
       "    </tr>\n",
       "  </thead>\n",
       "  <tbody>\n",
       "    <tr>\n",
       "      <th>0</th>\n",
       "      <td>POLYGON ((37.85878 41.01506, 37.85899 41.01504...</td>\n",
       "      <td>57.0</td>\n",
       "      <td>3</td>\n",
       "      <td>NaN</td>\n",
       "      <td>NaN</td>\n",
       "      <td>NaN</td>\n",
       "      <td>NaN</td>\n",
       "      <td>NaN</td>\n",
       "      <td>NaN</td>\n",
       "      <td>NaN</td>\n",
       "      <td>NaN</td>\n",
       "    </tr>\n",
       "    <tr>\n",
       "      <th>1</th>\n",
       "      <td>POLYGON ((37.85890 41.01424, 37.85909 41.01425...</td>\n",
       "      <td>125.0</td>\n",
       "      <td>3</td>\n",
       "      <td>religious</td>\n",
       "      <td>NaN</td>\n",
       "      <td>NaN</td>\n",
       "      <td>NaN</td>\n",
       "      <td>NaN</td>\n",
       "      <td>NaN</td>\n",
       "      <td>NaN</td>\n",
       "      <td>NaN</td>\n",
       "    </tr>\n",
       "    <tr>\n",
       "      <th>2</th>\n",
       "      <td>POLYGON ((37.86598 41.00785, 37.86606 41.00783...</td>\n",
       "      <td>52.0</td>\n",
       "      <td>3</td>\n",
       "      <td>NaN</td>\n",
       "      <td>NaN</td>\n",
       "      <td>NaN</td>\n",
       "      <td>NaN</td>\n",
       "      <td>NaN</td>\n",
       "      <td>NaN</td>\n",
       "      <td>NaN</td>\n",
       "      <td>NaN</td>\n",
       "    </tr>\n",
       "    <tr>\n",
       "      <th>3</th>\n",
       "      <td>POLYGON ((37.86601 41.00637, 37.86608 41.00655...</td>\n",
       "      <td>67.0</td>\n",
       "      <td>3</td>\n",
       "      <td>NaN</td>\n",
       "      <td>NaN</td>\n",
       "      <td>NaN</td>\n",
       "      <td>NaN</td>\n",
       "      <td>NaN</td>\n",
       "      <td>NaN</td>\n",
       "      <td>NaN</td>\n",
       "      <td>NaN</td>\n",
       "    </tr>\n",
       "    <tr>\n",
       "      <th>4</th>\n",
       "      <td>POLYGON ((37.86603 41.00742, 37.86629 41.00742...</td>\n",
       "      <td>41.0</td>\n",
       "      <td>3</td>\n",
       "      <td>NaN</td>\n",
       "      <td>NaN</td>\n",
       "      <td>NaN</td>\n",
       "      <td>NaN</td>\n",
       "      <td>NaN</td>\n",
       "      <td>NaN</td>\n",
       "      <td>NaN</td>\n",
       "      <td>NaN</td>\n",
       "    </tr>\n",
       "    <tr>\n",
       "      <th>...</th>\n",
       "      <td>...</td>\n",
       "      <td>...</td>\n",
       "      <td>...</td>\n",
       "      <td>...</td>\n",
       "      <td>...</td>\n",
       "      <td>...</td>\n",
       "      <td>...</td>\n",
       "      <td>...</td>\n",
       "      <td>...</td>\n",
       "      <td>...</td>\n",
       "      <td>...</td>\n",
       "    </tr>\n",
       "    <tr>\n",
       "      <th>1994</th>\n",
       "      <td>POLYGON ((37.99205 40.93531, 37.99206 40.93547...</td>\n",
       "      <td>NaN</td>\n",
       "      <td>3</td>\n",
       "      <td>religious</td>\n",
       "      <td>NaN</td>\n",
       "      <td>NaN</td>\n",
       "      <td>NaN</td>\n",
       "      <td>NaN</td>\n",
       "      <td>NaN</td>\n",
       "      <td>NaN</td>\n",
       "      <td>NaN</td>\n",
       "    </tr>\n",
       "    <tr>\n",
       "      <th>1995</th>\n",
       "      <td>POLYGON ((37.99954 40.93157, 37.99953 40.93142...</td>\n",
       "      <td>NaN</td>\n",
       "      <td>3</td>\n",
       "      <td>religious</td>\n",
       "      <td>NaN</td>\n",
       "      <td>NaN</td>\n",
       "      <td>NaN</td>\n",
       "      <td>NaN</td>\n",
       "      <td>NaN</td>\n",
       "      <td>NaN</td>\n",
       "      <td>NaN</td>\n",
       "    </tr>\n",
       "    <tr>\n",
       "      <th>1996</th>\n",
       "      <td>POLYGON ((38.00820 40.97672, 38.00820 40.97679...</td>\n",
       "      <td>NaN</td>\n",
       "      <td>3</td>\n",
       "      <td>roof</td>\n",
       "      <td>NaN</td>\n",
       "      <td>NaN</td>\n",
       "      <td>NaN</td>\n",
       "      <td>NaN</td>\n",
       "      <td>NaN</td>\n",
       "      <td>NaN</td>\n",
       "      <td>NaN</td>\n",
       "    </tr>\n",
       "    <tr>\n",
       "      <th>1997</th>\n",
       "      <td>POLYGON ((38.01762 40.97604, 38.01778 40.97605...</td>\n",
       "      <td>NaN</td>\n",
       "      <td>3</td>\n",
       "      <td>religious</td>\n",
       "      <td>NaN</td>\n",
       "      <td>NaN</td>\n",
       "      <td>NaN</td>\n",
       "      <td>NaN</td>\n",
       "      <td>NaN</td>\n",
       "      <td>NaN</td>\n",
       "      <td>NaN</td>\n",
       "    </tr>\n",
       "    <tr>\n",
       "      <th>1998</th>\n",
       "      <td>POLYGON ((38.03099 40.95645, 38.03113 40.95644...</td>\n",
       "      <td>NaN</td>\n",
       "      <td>3</td>\n",
       "      <td>religious</td>\n",
       "      <td>NaN</td>\n",
       "      <td>NaN</td>\n",
       "      <td>NaN</td>\n",
       "      <td>NaN</td>\n",
       "      <td>NaN</td>\n",
       "      <td>NaN</td>\n",
       "      <td>NaN</td>\n",
       "    </tr>\n",
       "  </tbody>\n",
       "</table>\n",
       "<p>1999 rows × 11 columns</p>\n",
       "</div>"
      ],
      "text/plain": [
       "                                               geometry  orient  height  \\\n",
       "0     POLYGON ((37.85878 41.01506, 37.85899 41.01504...    57.0       3   \n",
       "1     POLYGON ((37.85890 41.01424, 37.85909 41.01425...   125.0       3   \n",
       "2     POLYGON ((37.86598 41.00785, 37.86606 41.00783...    52.0       3   \n",
       "3     POLYGON ((37.86601 41.00637, 37.86608 41.00655...    67.0       3   \n",
       "4     POLYGON ((37.86603 41.00742, 37.86629 41.00742...    41.0       3   \n",
       "...                                                 ...     ...     ...   \n",
       "1994  POLYGON ((37.99205 40.93531, 37.99206 40.93547...     NaN       3   \n",
       "1995  POLYGON ((37.99954 40.93157, 37.99953 40.93142...     NaN       3   \n",
       "1996  POLYGON ((38.00820 40.97672, 38.00820 40.97679...     NaN       3   \n",
       "1997  POLYGON ((38.01762 40.97604, 38.01778 40.97605...     NaN       3   \n",
       "1998  POLYGON ((38.03099 40.95645, 38.03113 40.95644...     NaN       3   \n",
       "\n",
       "           type  levels name roofMaterial roofShape  roofDirection roofColor  \\\n",
       "0           NaN     NaN  NaN          NaN       NaN            NaN       NaN   \n",
       "1     religious     NaN  NaN          NaN       NaN            NaN       NaN   \n",
       "2           NaN     NaN  NaN          NaN       NaN            NaN       NaN   \n",
       "3           NaN     NaN  NaN          NaN       NaN            NaN       NaN   \n",
       "4           NaN     NaN  NaN          NaN       NaN            NaN       NaN   \n",
       "...         ...     ...  ...          ...       ...            ...       ...   \n",
       "1994  religious     NaN  NaN          NaN       NaN            NaN       NaN   \n",
       "1995  religious     NaN  NaN          NaN       NaN            NaN       NaN   \n",
       "1996       roof     NaN  NaN          NaN       NaN            NaN       NaN   \n",
       "1997  religious     NaN  NaN          NaN       NaN            NaN       NaN   \n",
       "1998  religious     NaN  NaN          NaN       NaN            NaN       NaN   \n",
       "\n",
       "     building  \n",
       "0         NaN  \n",
       "1         NaN  \n",
       "2         NaN  \n",
       "3         NaN  \n",
       "4         NaN  \n",
       "...       ...  \n",
       "1994      NaN  \n",
       "1995      NaN  \n",
       "1996      NaN  \n",
       "1997      NaN  \n",
       "1998      NaN  \n",
       "\n",
       "[1999 rows x 11 columns]"
      ]
     },
     "execution_count": 16,
     "metadata": {},
     "output_type": "execute_result"
    }
   ],
   "source": [
    "df_osmb"
   ]
  },
  {
   "cell_type": "code",
   "execution_count": 54,
   "metadata": {},
   "outputs": [
    {
     "data": {
      "text/plain": [
       "1930"
      ]
     },
     "execution_count": 54,
     "metadata": {},
     "output_type": "execute_result"
    }
   ],
   "source": [
    "len(df_osm_b)"
   ]
  },
  {
   "cell_type": "code",
   "execution_count": 50,
   "metadata": {},
   "outputs": [
    {
     "data": {
      "text/plain": [
       "[11371]"
      ]
     },
     "execution_count": 50,
     "metadata": {},
     "output_type": "execute_result"
    }
   ],
   "source": [
    "geopandas.clip(df_osm_b, df_osmb.iloc[2][\"geometry\"]).index.to_list()"
   ]
  },
  {
   "cell_type": "code",
   "execution_count": 36,
   "metadata": {},
   "outputs": [
    {
     "data": {
      "image/svg+xml": "<svg xmlns=\"http://www.w3.org/2000/svg\" xmlns:xlink=\"http://www.w3.org/1999/xlink\" width=\"100.0\" height=\"100.0\" viewBox=\"37.865962008 41.007755908 0.00010508400000475149 9.858399999984613e-05\" preserveAspectRatio=\"xMinYMin meet\"><g transform=\"matrix(1,0,0,-1,0,82.0156104)\"><path fill-rule=\"evenodd\" fill=\"#66cc99\" stroke=\"#555555\" stroke-width=\"2.10168000009503e-06\" opacity=\"0.6\" d=\"M 37.8659783,41.0078506 L 37.8659659,41.0077624 L 37.8660632,41.0077598 L 37.8660632,41.0078306 L 37.8659783,41.0078506 z\" /></g></svg>",
      "text/plain": [
       "<shapely.geometry.polygon.Polygon at 0x16f15573af0>"
      ]
     },
     "execution_count": 36,
     "metadata": {},
     "output_type": "execute_result"
    }
   ],
   "source": [
    "df_osm_b.loc[11371][\"geometry\"]"
   ]
  },
  {
   "cell_type": "code",
   "execution_count": 30,
   "metadata": {},
   "outputs": [
    {
     "data": {
      "image/svg+xml": "<svg xmlns=\"http://www.w3.org/2000/svg\" xmlns:xlink=\"http://www.w3.org/1999/xlink\" width=\"100.0\" height=\"100.0\" viewBox=\"37.865961080000005 41.00775508 0.00010583999998914351 9.883999999260595e-05\" preserveAspectRatio=\"xMinYMin meet\"><g transform=\"matrix(1,0,0,-1,0,82.015609)\"><path fill-rule=\"evenodd\" fill=\"#66cc99\" stroke=\"#555555\" stroke-width=\"2.11679999978287e-06\" opacity=\"0.6\" d=\"M 37.865978,41.00785 L 37.866063,41.00783 L 37.866063,41.007759 L 37.865965,41.007762 L 37.865978,41.00785 z\" /></g></svg>",
      "text/plain": [
       "<shapely.geometry.polygon.Polygon at 0x16f12559d90>"
      ]
     },
     "execution_count": 30,
     "metadata": {},
     "output_type": "execute_result"
    }
   ],
   "source": [
    "df_osmb.iloc[2][\"geometry\"]"
   ]
  },
  {
   "cell_type": "code",
   "execution_count": null,
   "metadata": {},
   "outputs": [],
   "source": []
  }
 ],
 "metadata": {
  "kernelspec": {
   "display_name": "Python 3.9.13 ('wb39_1')",
   "language": "python",
   "name": "python3"
  },
  "language_info": {
   "codemirror_mode": {
    "name": "ipython",
    "version": 3
   },
   "file_extension": ".py",
   "mimetype": "text/x-python",
   "name": "python",
   "nbconvert_exporter": "python",
   "pygments_lexer": "ipython3",
   "version": "3.9.13"
  },
  "orig_nbformat": 4,
  "vscode": {
   "interpreter": {
    "hash": "b10596a57a7fe467b2b48eb5dd99a7a84562dfd66f0b94d18dfe208a34f6946f"
   }
  }
 },
 "nbformat": 4,
 "nbformat_minor": 2
}
