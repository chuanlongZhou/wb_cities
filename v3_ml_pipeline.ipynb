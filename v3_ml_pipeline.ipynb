{
 "cells": [
  {
   "cell_type": "markdown",
   "metadata": {},
   "source": [
    "# ML Pipeline"
   ]
  },
  {
   "cell_type": "markdown",
   "metadata": {},
   "source": [
    "V3 : simple pipeline with few features"
   ]
  },
  {
   "cell_type": "code",
   "execution_count": 53,
   "metadata": {},
   "outputs": [
    {
     "name": "stdout",
     "output_type": "stream",
     "text": [
      "The autoreload extension is already loaded. To reload it, use:\n",
      "  %reload_ext autoreload\n"
     ]
    }
   ],
   "source": [
    "%load_ext autoreload\n",
    "%autoreload 2"
   ]
  },
  {
   "cell_type": "code",
   "execution_count": 54,
   "metadata": {},
   "outputs": [],
   "source": [
    "import os\n",
    "import json\n",
    "import pickle\n",
    "import pandas as pd\n",
    "import geopandas as gpd\n",
    "from region_new import Region"
   ]
  },
  {
   "cell_type": "code",
   "execution_count": 55,
   "metadata": {},
   "outputs": [
    {
     "data": {
      "text/html": [
       "<div>\n",
       "<style scoped>\n",
       "    .dataframe tbody tr th:only-of-type {\n",
       "        vertical-align: middle;\n",
       "    }\n",
       "\n",
       "    .dataframe tbody tr th {\n",
       "        vertical-align: top;\n",
       "    }\n",
       "\n",
       "    .dataframe thead th {\n",
       "        text-align: right;\n",
       "    }\n",
       "</style>\n",
       "<table border=\"1\" class=\"dataframe\">\n",
       "  <thead>\n",
       "    <tr style=\"text-align: right;\">\n",
       "      <th></th>\n",
       "      <th>height</th>\n",
       "      <th>orient</th>\n",
       "      <th>type_level_0</th>\n",
       "      <th>density</th>\n",
       "      <th>area</th>\n",
       "      <th>source</th>\n",
       "      <th>geometry</th>\n",
       "      <th>type_level_1</th>\n",
       "      <th>type_level_2</th>\n",
       "    </tr>\n",
       "  </thead>\n",
       "  <tbody>\n",
       "    <tr>\n",
       "      <th>0</th>\n",
       "      <td>3.0</td>\n",
       "      <td>57.0</td>\n",
       "      <td>NaN</td>\n",
       "      <td>1</td>\n",
       "      <td>589.724363</td>\n",
       "      <td>OSM</td>\n",
       "      <td>POLYGON ((37.85878 41.01506, 37.85899 41.01504...</td>\n",
       "      <td>NaN</td>\n",
       "      <td>NaN</td>\n",
       "    </tr>\n",
       "    <tr>\n",
       "      <th>1</th>\n",
       "      <td>3.0</td>\n",
       "      <td>125.0</td>\n",
       "      <td>religious</td>\n",
       "      <td>1</td>\n",
       "      <td>517.641569</td>\n",
       "      <td>OSM</td>\n",
       "      <td>POLYGON ((37.85890 41.01424, 37.85909 41.01425...</td>\n",
       "      <td>religious</td>\n",
       "      <td>others</td>\n",
       "    </tr>\n",
       "    <tr>\n",
       "      <th>2</th>\n",
       "      <td>3.0</td>\n",
       "      <td>52.0</td>\n",
       "      <td>Other buildings</td>\n",
       "      <td>1</td>\n",
       "      <td>150.135975</td>\n",
       "      <td>OSM</td>\n",
       "      <td>POLYGON ((37.86598 41.00785, 37.86600 41.00785...</td>\n",
       "      <td>residential</td>\n",
       "      <td>residential</td>\n",
       "    </tr>\n",
       "    <tr>\n",
       "      <th>3</th>\n",
       "      <td>3.0</td>\n",
       "      <td>67.0</td>\n",
       "      <td>Other buildings</td>\n",
       "      <td>1</td>\n",
       "      <td>907.775199</td>\n",
       "      <td>OSM</td>\n",
       "      <td>POLYGON ((37.86608 41.00655, 37.86608 41.00655...</td>\n",
       "      <td>residential</td>\n",
       "      <td>residential</td>\n",
       "    </tr>\n",
       "    <tr>\n",
       "      <th>4</th>\n",
       "      <td>3.0</td>\n",
       "      <td>41.0</td>\n",
       "      <td>Other buildings</td>\n",
       "      <td>1</td>\n",
       "      <td>1869.903589</td>\n",
       "      <td>OSM</td>\n",
       "      <td>POLYGON ((37.86631 41.00708, 37.86631 41.00708...</td>\n",
       "      <td>residential</td>\n",
       "      <td>residential</td>\n",
       "    </tr>\n",
       "    <tr>\n",
       "      <th>5</th>\n",
       "      <td>3.0</td>\n",
       "      <td>49.0</td>\n",
       "      <td>Other buildings</td>\n",
       "      <td>1</td>\n",
       "      <td>1609.714757</td>\n",
       "      <td>OSM</td>\n",
       "      <td>POLYGON ((37.86614 41.00693, 37.86619 41.00693...</td>\n",
       "      <td>residential</td>\n",
       "      <td>residential</td>\n",
       "    </tr>\n",
       "    <tr>\n",
       "      <th>6</th>\n",
       "      <td>3.0</td>\n",
       "      <td>55.0</td>\n",
       "      <td>Other buildings</td>\n",
       "      <td>1</td>\n",
       "      <td>384.167994</td>\n",
       "      <td>OSM</td>\n",
       "      <td>POLYGON ((37.86624 41.00885, 37.86622 41.00875...</td>\n",
       "      <td>residential</td>\n",
       "      <td>residential</td>\n",
       "    </tr>\n",
       "    <tr>\n",
       "      <th>7</th>\n",
       "      <td>3.0</td>\n",
       "      <td>56.0</td>\n",
       "      <td>Other buildings</td>\n",
       "      <td>1</td>\n",
       "      <td>283.882126</td>\n",
       "      <td>OSM</td>\n",
       "      <td>POLYGON ((37.86609 41.00870, 37.86612 41.00869...</td>\n",
       "      <td>residential</td>\n",
       "      <td>residential</td>\n",
       "    </tr>\n",
       "    <tr>\n",
       "      <th>8</th>\n",
       "      <td>3.0</td>\n",
       "      <td>65.0</td>\n",
       "      <td>Other buildings</td>\n",
       "      <td>1</td>\n",
       "      <td>1151.967331</td>\n",
       "      <td>OSM</td>\n",
       "      <td>POLYGON ((37.86638 41.00979, 37.86616 41.00982...</td>\n",
       "      <td>residential</td>\n",
       "      <td>residential</td>\n",
       "    </tr>\n",
       "    <tr>\n",
       "      <th>9</th>\n",
       "      <td>3.0</td>\n",
       "      <td>70.0</td>\n",
       "      <td>Other buildings</td>\n",
       "      <td>1</td>\n",
       "      <td>275.170659</td>\n",
       "      <td>OSM</td>\n",
       "      <td>POLYGON ((37.86623 41.00934, 37.86623 41.00934...</td>\n",
       "      <td>residential</td>\n",
       "      <td>residential</td>\n",
       "    </tr>\n",
       "  </tbody>\n",
       "</table>\n",
       "</div>"
      ],
      "text/plain": [
       "   height  orient     type_level_0  density         area source  \\\n",
       "0     3.0    57.0              NaN        1   589.724363    OSM   \n",
       "1     3.0   125.0        religious        1   517.641569    OSM   \n",
       "2     3.0    52.0  Other buildings        1   150.135975    OSM   \n",
       "3     3.0    67.0  Other buildings        1   907.775199    OSM   \n",
       "4     3.0    41.0  Other buildings        1  1869.903589    OSM   \n",
       "5     3.0    49.0  Other buildings        1  1609.714757    OSM   \n",
       "6     3.0    55.0  Other buildings        1   384.167994    OSM   \n",
       "7     3.0    56.0  Other buildings        1   283.882126    OSM   \n",
       "8     3.0    65.0  Other buildings        1  1151.967331    OSM   \n",
       "9     3.0    70.0  Other buildings        1   275.170659    OSM   \n",
       "\n",
       "                                            geometry type_level_1 type_level_2  \n",
       "0  POLYGON ((37.85878 41.01506, 37.85899 41.01504...          NaN          NaN  \n",
       "1  POLYGON ((37.85890 41.01424, 37.85909 41.01425...    religious       others  \n",
       "2  POLYGON ((37.86598 41.00785, 37.86600 41.00785...  residential  residential  \n",
       "3  POLYGON ((37.86608 41.00655, 37.86608 41.00655...  residential  residential  \n",
       "4  POLYGON ((37.86631 41.00708, 37.86631 41.00708...  residential  residential  \n",
       "5  POLYGON ((37.86614 41.00693, 37.86619 41.00693...  residential  residential  \n",
       "6  POLYGON ((37.86624 41.00885, 37.86622 41.00875...  residential  residential  \n",
       "7  POLYGON ((37.86609 41.00870, 37.86612 41.00869...  residential  residential  \n",
       "8  POLYGON ((37.86638 41.00979, 37.86616 41.00982...  residential  residential  \n",
       "9  POLYGON ((37.86623 41.00934, 37.86623 41.00934...  residential  residential  "
      ]
     },
     "execution_count": 55,
     "metadata": {},
     "output_type": "execute_result"
    }
   ],
   "source": [
    "path = os.path.join(\"data\",\"ml\", \"Ordu.pkl\")\n",
    "with open(path, 'rb') as f:     \n",
    "    data = pickle.load(f)\n",
    "data.head(10)"
   ]
  },
  {
   "cell_type": "markdown",
   "metadata": {},
   "source": [
    "First, we need to ensure the dataset contains all features as it results from different sources. "
   ]
  },
  {
   "cell_type": "code",
   "execution_count": 56,
   "metadata": {},
   "outputs": [
    {
     "name": "stdout",
     "output_type": "stream",
     "text": [
      "adding polygons... \n",
      "adding denstity... \n",
      "adding area... \n",
      "adding rasters... \n"
     ]
    }
   ],
   "source": [
    "from ml.add_all_features import *\n",
    "data = add_all_features(data,  'Ordu')"
   ]
  },
  {
   "cell_type": "code",
   "execution_count": 57,
   "metadata": {},
   "outputs": [],
   "source": [
    "def split( data ):\n",
    "        data_train = data.dropna(subset='height')\n",
    "        data_test = pd.concat(\n",
    "                [data, data_train]\n",
    "                ).drop_duplicates(keep=False)\n",
    "        return data_train, data_test"
   ]
  },
  {
   "cell_type": "code",
   "execution_count": 58,
   "metadata": {},
   "outputs": [
    {
     "data": {
      "text/html": [
       "<div>\n",
       "<style scoped>\n",
       "    .dataframe tbody tr th:only-of-type {\n",
       "        vertical-align: middle;\n",
       "    }\n",
       "\n",
       "    .dataframe tbody tr th {\n",
       "        vertical-align: top;\n",
       "    }\n",
       "\n",
       "    .dataframe thead th {\n",
       "        text-align: right;\n",
       "    }\n",
       "</style>\n",
       "<table border=\"1\" class=\"dataframe\">\n",
       "  <thead>\n",
       "    <tr style=\"text-align: right;\">\n",
       "      <th></th>\n",
       "      <th>height</th>\n",
       "      <th>orient</th>\n",
       "      <th>type_level_0</th>\n",
       "      <th>density</th>\n",
       "      <th>area</th>\n",
       "      <th>source</th>\n",
       "      <th>geometry</th>\n",
       "      <th>type_level_1</th>\n",
       "      <th>type_level_2</th>\n",
       "      <th>ntl</th>\n",
       "      <th>index_right</th>\n",
       "      <th>lcz</th>\n",
       "    </tr>\n",
       "  </thead>\n",
       "  <tbody>\n",
       "    <tr>\n",
       "      <th>0</th>\n",
       "      <td>3.0</td>\n",
       "      <td>57.0</td>\n",
       "      <td>NaN</td>\n",
       "      <td>1</td>\n",
       "      <td>589.724363</td>\n",
       "      <td>OSM</td>\n",
       "      <td>POLYGON ((37.85878 41.01506, 37.85899 41.01504...</td>\n",
       "      <td>NaN</td>\n",
       "      <td>NaN</td>\n",
       "      <td>10.014004</td>\n",
       "      <td>32.0</td>\n",
       "      <td>0.0</td>\n",
       "    </tr>\n",
       "    <tr>\n",
       "      <th>0</th>\n",
       "      <td>3.0</td>\n",
       "      <td>57.0</td>\n",
       "      <td>NaN</td>\n",
       "      <td>1</td>\n",
       "      <td>589.724363</td>\n",
       "      <td>OSM</td>\n",
       "      <td>POLYGON ((37.85878 41.01506, 37.85899 41.01504...</td>\n",
       "      <td>NaN</td>\n",
       "      <td>NaN</td>\n",
       "      <td>10.014004</td>\n",
       "      <td>6.0</td>\n",
       "      <td>12.0</td>\n",
       "    </tr>\n",
       "    <tr>\n",
       "      <th>0</th>\n",
       "      <td>3.0</td>\n",
       "      <td>57.0</td>\n",
       "      <td>NaN</td>\n",
       "      <td>1</td>\n",
       "      <td>589.724363</td>\n",
       "      <td>OSM</td>\n",
       "      <td>POLYGON ((37.85878 41.01506, 37.85899 41.01504...</td>\n",
       "      <td>NaN</td>\n",
       "      <td>NaN</td>\n",
       "      <td>11.764342</td>\n",
       "      <td>32.0</td>\n",
       "      <td>0.0</td>\n",
       "    </tr>\n",
       "    <tr>\n",
       "      <th>0</th>\n",
       "      <td>3.0</td>\n",
       "      <td>57.0</td>\n",
       "      <td>NaN</td>\n",
       "      <td>1</td>\n",
       "      <td>589.724363</td>\n",
       "      <td>OSM</td>\n",
       "      <td>POLYGON ((37.85878 41.01506, 37.85899 41.01504...</td>\n",
       "      <td>NaN</td>\n",
       "      <td>NaN</td>\n",
       "      <td>11.764342</td>\n",
       "      <td>6.0</td>\n",
       "      <td>12.0</td>\n",
       "    </tr>\n",
       "    <tr>\n",
       "      <th>1</th>\n",
       "      <td>3.0</td>\n",
       "      <td>125.0</td>\n",
       "      <td>religious</td>\n",
       "      <td>1</td>\n",
       "      <td>517.641569</td>\n",
       "      <td>OSM</td>\n",
       "      <td>POLYGON ((37.85890 41.01424, 37.85909 41.01425...</td>\n",
       "      <td>religious</td>\n",
       "      <td>others</td>\n",
       "      <td>10.014004</td>\n",
       "      <td>6.0</td>\n",
       "      <td>12.0</td>\n",
       "    </tr>\n",
       "  </tbody>\n",
       "</table>\n",
       "</div>"
      ],
      "text/plain": [
       "   height  orient type_level_0  density        area source  \\\n",
       "0     3.0    57.0          NaN        1  589.724363    OSM   \n",
       "0     3.0    57.0          NaN        1  589.724363    OSM   \n",
       "0     3.0    57.0          NaN        1  589.724363    OSM   \n",
       "0     3.0    57.0          NaN        1  589.724363    OSM   \n",
       "1     3.0   125.0    religious        1  517.641569    OSM   \n",
       "\n",
       "                                            geometry type_level_1  \\\n",
       "0  POLYGON ((37.85878 41.01506, 37.85899 41.01504...          NaN   \n",
       "0  POLYGON ((37.85878 41.01506, 37.85899 41.01504...          NaN   \n",
       "0  POLYGON ((37.85878 41.01506, 37.85899 41.01504...          NaN   \n",
       "0  POLYGON ((37.85878 41.01506, 37.85899 41.01504...          NaN   \n",
       "1  POLYGON ((37.85890 41.01424, 37.85909 41.01425...    religious   \n",
       "\n",
       "  type_level_2        ntl  index_right   lcz  \n",
       "0          NaN  10.014004         32.0   0.0  \n",
       "0          NaN  10.014004          6.0  12.0  \n",
       "0          NaN  11.764342         32.0   0.0  \n",
       "0          NaN  11.764342          6.0  12.0  \n",
       "1       others  10.014004          6.0  12.0  "
      ]
     },
     "execution_count": 58,
     "metadata": {},
     "output_type": "execute_result"
    }
   ],
   "source": [
    "data, test = split(data)\n",
    "data.head()"
   ]
  },
  {
   "cell_type": "code",
   "execution_count": 59,
   "metadata": {},
   "outputs": [],
   "source": [
    "save = data\n",
    "save_test = test\n",
    "data.drop(['geometry', 'source', 'orient'], axis=1, inplace=True)\n",
    "test.drop(['geometry', 'source', 'orient'], axis=1, inplace=True)"
   ]
  },
  {
   "cell_type": "markdown",
   "metadata": {},
   "source": [
    "The actual pipeline : scale, one-hot-encode categories and fill NaN values"
   ]
  },
  {
   "cell_type": "code",
   "execution_count": 60,
   "metadata": {},
   "outputs": [],
   "source": [
    "import numpy as np\n",
    "import matplotlib.pyplot as plt\n",
    "from sklearn.pipeline import make_pipeline\n",
    "from sklearn.preprocessing import StandardScaler, OneHotEncoder\n",
    "from sklearn.compose import make_column_transformer, make_column_selector\n",
    "from sklearn.impute import SimpleImputer\n",
    "from sklearn.linear_model import SGDClassifier"
   ]
  },
  {
   "cell_type": "code",
   "execution_count": 61,
   "metadata": {},
   "outputs": [],
   "source": [
    "y = data['height']\n",
    "X = data.drop('height', axis=1)"
   ]
  },
  {
   "cell_type": "code",
   "execution_count": 62,
   "metadata": {},
   "outputs": [],
   "source": [
    "numerical_features = ['ntl', 'area']\n",
    "categorical_features = make_column_selector(dtype_include = object)\n",
    "discrete_features = ['lcz', 'index_right']"
   ]
  },
  {
   "cell_type": "code",
   "execution_count": 87,
   "metadata": {},
   "outputs": [
    {
     "data": {
      "text/plain": [
       "[array([nan, 'religious', 'Other buildings', 'school', 'residential',\n",
       "        'Accommodation', 'office', 'stadium', 'roof', 'commercial',\n",
       "        'dormitory', 'public', 'mall', 'hospital', 'greenhouse', 'civic',\n",
       "        'industrial', 'university', 'kindergarten'], dtype=object),\n",
       " array([nan, 'religious', 'residential', 'school', 'civic', 'sports',\n",
       "        'commercial', 'agricultural', 'industrial'], dtype=object),\n",
       " array([nan, 'others', 'residential', 'commercial', 'industrial'],\n",
       "       dtype=object)]"
      ]
     },
     "execution_count": 87,
     "metadata": {},
     "output_type": "execute_result"
    }
   ],
   "source": [
    "categorical_feature_names = [\n",
    "    X['type_level_0'].unique(), \n",
    "    (X['type_level_1']).unique(), \n",
    "    (X['type_level_2']).unique(), \n",
    "]\n",
    "categorical_feature_names"
   ]
  },
  {
   "cell_type": "code",
   "execution_count": 91,
   "metadata": {},
   "outputs": [],
   "source": [
    "numerical_pipeline = make_pipeline(\n",
    "    SimpleImputer( strategy='mean'),\n",
    "    StandardScaler(),\n",
    "    )\n",
    "categorical_pipeline = make_pipeline(\n",
    "    SimpleImputer( strategy='most_frequent'),\n",
    "    OneHotEncoder(categories=categorical_feature_names)\n",
    ")\n",
    "discrete_pipeline = make_pipeline(\n",
    "    SimpleImputer( strategy='most_frequent'),\n",
    "    StandardScaler(),\n",
    ")"
   ]
  },
  {
   "cell_type": "code",
   "execution_count": 92,
   "metadata": {},
   "outputs": [],
   "source": [
    "preprocessor = make_column_transformer( \n",
    "    (numerical_pipeline, numerical_features),\n",
    "    (categorical_pipeline, categorical_features),\n",
    "    (discrete_pipeline, discrete_features)\n",
    ")"
   ]
  },
  {
   "cell_type": "code",
   "execution_count": 93,
   "metadata": {},
   "outputs": [
    {
     "data": {
      "text/html": [
       "<style>#sk-container-id-4 {color: black;background-color: white;}#sk-container-id-4 pre{padding: 0;}#sk-container-id-4 div.sk-toggleable {background-color: white;}#sk-container-id-4 label.sk-toggleable__label {cursor: pointer;display: block;width: 100%;margin-bottom: 0;padding: 0.3em;box-sizing: border-box;text-align: center;}#sk-container-id-4 label.sk-toggleable__label-arrow:before {content: \"▸\";float: left;margin-right: 0.25em;color: #696969;}#sk-container-id-4 label.sk-toggleable__label-arrow:hover:before {color: black;}#sk-container-id-4 div.sk-estimator:hover label.sk-toggleable__label-arrow:before {color: black;}#sk-container-id-4 div.sk-toggleable__content {max-height: 0;max-width: 0;overflow: hidden;text-align: left;background-color: #f0f8ff;}#sk-container-id-4 div.sk-toggleable__content pre {margin: 0.2em;color: black;border-radius: 0.25em;background-color: #f0f8ff;}#sk-container-id-4 input.sk-toggleable__control:checked~div.sk-toggleable__content {max-height: 200px;max-width: 100%;overflow: auto;}#sk-container-id-4 input.sk-toggleable__control:checked~label.sk-toggleable__label-arrow:before {content: \"▾\";}#sk-container-id-4 div.sk-estimator input.sk-toggleable__control:checked~label.sk-toggleable__label {background-color: #d4ebff;}#sk-container-id-4 div.sk-label input.sk-toggleable__control:checked~label.sk-toggleable__label {background-color: #d4ebff;}#sk-container-id-4 input.sk-hidden--visually {border: 0;clip: rect(1px 1px 1px 1px);clip: rect(1px, 1px, 1px, 1px);height: 1px;margin: -1px;overflow: hidden;padding: 0;position: absolute;width: 1px;}#sk-container-id-4 div.sk-estimator {font-family: monospace;background-color: #f0f8ff;border: 1px dotted black;border-radius: 0.25em;box-sizing: border-box;margin-bottom: 0.5em;}#sk-container-id-4 div.sk-estimator:hover {background-color: #d4ebff;}#sk-container-id-4 div.sk-parallel-item::after {content: \"\";width: 100%;border-bottom: 1px solid gray;flex-grow: 1;}#sk-container-id-4 div.sk-label:hover label.sk-toggleable__label {background-color: #d4ebff;}#sk-container-id-4 div.sk-serial::before {content: \"\";position: absolute;border-left: 1px solid gray;box-sizing: border-box;top: 0;bottom: 0;left: 50%;z-index: 0;}#sk-container-id-4 div.sk-serial {display: flex;flex-direction: column;align-items: center;background-color: white;padding-right: 0.2em;padding-left: 0.2em;position: relative;}#sk-container-id-4 div.sk-item {position: relative;z-index: 1;}#sk-container-id-4 div.sk-parallel {display: flex;align-items: stretch;justify-content: center;background-color: white;position: relative;}#sk-container-id-4 div.sk-item::before, #sk-container-id-4 div.sk-parallel-item::before {content: \"\";position: absolute;border-left: 1px solid gray;box-sizing: border-box;top: 0;bottom: 0;left: 50%;z-index: -1;}#sk-container-id-4 div.sk-parallel-item {display: flex;flex-direction: column;z-index: 1;position: relative;background-color: white;}#sk-container-id-4 div.sk-parallel-item:first-child::after {align-self: flex-end;width: 50%;}#sk-container-id-4 div.sk-parallel-item:last-child::after {align-self: flex-start;width: 50%;}#sk-container-id-4 div.sk-parallel-item:only-child::after {width: 0;}#sk-container-id-4 div.sk-dashed-wrapped {border: 1px dashed gray;margin: 0 0.4em 0.5em 0.4em;box-sizing: border-box;padding-bottom: 0.4em;background-color: white;}#sk-container-id-4 div.sk-label label {font-family: monospace;font-weight: bold;display: inline-block;line-height: 1.2em;}#sk-container-id-4 div.sk-label-container {text-align: center;}#sk-container-id-4 div.sk-container {/* jupyter's `normalize.less` sets `[hidden] { display: none; }` but bootstrap.min.css set `[hidden] { display: none !important; }` so we also need the `!important` here to be able to override the default hidden behavior on the sphinx rendered scikit-learn.org. See: https://github.com/scikit-learn/scikit-learn/issues/21755 */display: inline-block !important;position: relative;}#sk-container-id-4 div.sk-text-repr-fallback {display: none;}</style><div id=\"sk-container-id-4\" class=\"sk-top-container\"><div class=\"sk-text-repr-fallback\"><pre>Pipeline(steps=[(&#x27;columntransformer&#x27;,\n",
       "                 ColumnTransformer(transformers=[(&#x27;pipeline-1&#x27;,\n",
       "                                                  Pipeline(steps=[(&#x27;simpleimputer&#x27;,\n",
       "                                                                   SimpleImputer()),\n",
       "                                                                  (&#x27;standardscaler&#x27;,\n",
       "                                                                   StandardScaler())]),\n",
       "                                                  [&#x27;ntl&#x27;, &#x27;area&#x27;]),\n",
       "                                                 (&#x27;pipeline-2&#x27;,\n",
       "                                                  Pipeline(steps=[(&#x27;simpleimputer&#x27;,\n",
       "                                                                   SimpleImputer(strategy=&#x27;most_frequent&#x27;)),\n",
       "                                                                  (&#x27;onehotencoder&#x27;,\n",
       "                                                                   OneHotEncoder(categories=[array([nan, &#x27;religious&#x27;, &#x27;Other bui...\n",
       "       &#x27;commercial&#x27;, &#x27;agricultural&#x27;, &#x27;industrial&#x27;], dtype=object),\n",
       "                                                                                             array([nan, &#x27;others&#x27;, &#x27;residential&#x27;, &#x27;commercial&#x27;, &#x27;industrial&#x27;],\n",
       "      dtype=object)]))]),\n",
       "                                                  &lt;sklearn.compose._column_transformer.make_column_selector object at 0x7f2989c07f70&gt;),\n",
       "                                                 (&#x27;pipeline-3&#x27;,\n",
       "                                                  Pipeline(steps=[(&#x27;simpleimputer&#x27;,\n",
       "                                                                   SimpleImputer(strategy=&#x27;most_frequent&#x27;)),\n",
       "                                                                  (&#x27;standardscaler&#x27;,\n",
       "                                                                   StandardScaler())]),\n",
       "                                                  [&#x27;lcz&#x27;, &#x27;index_right&#x27;])])),\n",
       "                (&#x27;sgdclassifier&#x27;, SGDClassifier())])</pre><b>In a Jupyter environment, please rerun this cell to show the HTML representation or trust the notebook. <br />On GitHub, the HTML representation is unable to render, please try loading this page with nbviewer.org.</b></div><div class=\"sk-container\" hidden><div class=\"sk-item sk-dashed-wrapped\"><div class=\"sk-label-container\"><div class=\"sk-label sk-toggleable\"><input class=\"sk-toggleable__control sk-hidden--visually\" id=\"sk-estimator-id-37\" type=\"checkbox\" ><label for=\"sk-estimator-id-37\" class=\"sk-toggleable__label sk-toggleable__label-arrow\">Pipeline</label><div class=\"sk-toggleable__content\"><pre>Pipeline(steps=[(&#x27;columntransformer&#x27;,\n",
       "                 ColumnTransformer(transformers=[(&#x27;pipeline-1&#x27;,\n",
       "                                                  Pipeline(steps=[(&#x27;simpleimputer&#x27;,\n",
       "                                                                   SimpleImputer()),\n",
       "                                                                  (&#x27;standardscaler&#x27;,\n",
       "                                                                   StandardScaler())]),\n",
       "                                                  [&#x27;ntl&#x27;, &#x27;area&#x27;]),\n",
       "                                                 (&#x27;pipeline-2&#x27;,\n",
       "                                                  Pipeline(steps=[(&#x27;simpleimputer&#x27;,\n",
       "                                                                   SimpleImputer(strategy=&#x27;most_frequent&#x27;)),\n",
       "                                                                  (&#x27;onehotencoder&#x27;,\n",
       "                                                                   OneHotEncoder(categories=[array([nan, &#x27;religious&#x27;, &#x27;Other bui...\n",
       "       &#x27;commercial&#x27;, &#x27;agricultural&#x27;, &#x27;industrial&#x27;], dtype=object),\n",
       "                                                                                             array([nan, &#x27;others&#x27;, &#x27;residential&#x27;, &#x27;commercial&#x27;, &#x27;industrial&#x27;],\n",
       "      dtype=object)]))]),\n",
       "                                                  &lt;sklearn.compose._column_transformer.make_column_selector object at 0x7f2989c07f70&gt;),\n",
       "                                                 (&#x27;pipeline-3&#x27;,\n",
       "                                                  Pipeline(steps=[(&#x27;simpleimputer&#x27;,\n",
       "                                                                   SimpleImputer(strategy=&#x27;most_frequent&#x27;)),\n",
       "                                                                  (&#x27;standardscaler&#x27;,\n",
       "                                                                   StandardScaler())]),\n",
       "                                                  [&#x27;lcz&#x27;, &#x27;index_right&#x27;])])),\n",
       "                (&#x27;sgdclassifier&#x27;, SGDClassifier())])</pre></div></div></div><div class=\"sk-serial\"><div class=\"sk-item sk-dashed-wrapped\"><div class=\"sk-label-container\"><div class=\"sk-label sk-toggleable\"><input class=\"sk-toggleable__control sk-hidden--visually\" id=\"sk-estimator-id-38\" type=\"checkbox\" ><label for=\"sk-estimator-id-38\" class=\"sk-toggleable__label sk-toggleable__label-arrow\">columntransformer: ColumnTransformer</label><div class=\"sk-toggleable__content\"><pre>ColumnTransformer(transformers=[(&#x27;pipeline-1&#x27;,\n",
       "                                 Pipeline(steps=[(&#x27;simpleimputer&#x27;,\n",
       "                                                  SimpleImputer()),\n",
       "                                                 (&#x27;standardscaler&#x27;,\n",
       "                                                  StandardScaler())]),\n",
       "                                 [&#x27;ntl&#x27;, &#x27;area&#x27;]),\n",
       "                                (&#x27;pipeline-2&#x27;,\n",
       "                                 Pipeline(steps=[(&#x27;simpleimputer&#x27;,\n",
       "                                                  SimpleImputer(strategy=&#x27;most_frequent&#x27;)),\n",
       "                                                 (&#x27;onehotencoder&#x27;,\n",
       "                                                  OneHotEncoder(categories=[array([nan, &#x27;religious&#x27;, &#x27;Other buildings&#x27;, &#x27;school&#x27;, &#x27;residential&#x27;,\n",
       "       &#x27;Accom...\n",
       "       &#x27;commercial&#x27;, &#x27;agricultural&#x27;, &#x27;industrial&#x27;], dtype=object),\n",
       "                                                                            array([nan, &#x27;others&#x27;, &#x27;residential&#x27;, &#x27;commercial&#x27;, &#x27;industrial&#x27;],\n",
       "      dtype=object)]))]),\n",
       "                                 &lt;sklearn.compose._column_transformer.make_column_selector object at 0x7f2989c07f70&gt;),\n",
       "                                (&#x27;pipeline-3&#x27;,\n",
       "                                 Pipeline(steps=[(&#x27;simpleimputer&#x27;,\n",
       "                                                  SimpleImputer(strategy=&#x27;most_frequent&#x27;)),\n",
       "                                                 (&#x27;standardscaler&#x27;,\n",
       "                                                  StandardScaler())]),\n",
       "                                 [&#x27;lcz&#x27;, &#x27;index_right&#x27;])])</pre></div></div></div><div class=\"sk-parallel\"><div class=\"sk-parallel-item\"><div class=\"sk-item\"><div class=\"sk-label-container\"><div class=\"sk-label sk-toggleable\"><input class=\"sk-toggleable__control sk-hidden--visually\" id=\"sk-estimator-id-39\" type=\"checkbox\" ><label for=\"sk-estimator-id-39\" class=\"sk-toggleable__label sk-toggleable__label-arrow\">pipeline-1</label><div class=\"sk-toggleable__content\"><pre>[&#x27;ntl&#x27;, &#x27;area&#x27;]</pre></div></div></div><div class=\"sk-serial\"><div class=\"sk-item\"><div class=\"sk-serial\"><div class=\"sk-item\"><div class=\"sk-estimator sk-toggleable\"><input class=\"sk-toggleable__control sk-hidden--visually\" id=\"sk-estimator-id-40\" type=\"checkbox\" ><label for=\"sk-estimator-id-40\" class=\"sk-toggleable__label sk-toggleable__label-arrow\">SimpleImputer</label><div class=\"sk-toggleable__content\"><pre>SimpleImputer()</pre></div></div></div><div class=\"sk-item\"><div class=\"sk-estimator sk-toggleable\"><input class=\"sk-toggleable__control sk-hidden--visually\" id=\"sk-estimator-id-41\" type=\"checkbox\" ><label for=\"sk-estimator-id-41\" class=\"sk-toggleable__label sk-toggleable__label-arrow\">StandardScaler</label><div class=\"sk-toggleable__content\"><pre>StandardScaler()</pre></div></div></div></div></div></div></div></div><div class=\"sk-parallel-item\"><div class=\"sk-item\"><div class=\"sk-label-container\"><div class=\"sk-label sk-toggleable\"><input class=\"sk-toggleable__control sk-hidden--visually\" id=\"sk-estimator-id-42\" type=\"checkbox\" ><label for=\"sk-estimator-id-42\" class=\"sk-toggleable__label sk-toggleable__label-arrow\">pipeline-2</label><div class=\"sk-toggleable__content\"><pre>&lt;sklearn.compose._column_transformer.make_column_selector object at 0x7f2989c07f70&gt;</pre></div></div></div><div class=\"sk-serial\"><div class=\"sk-item\"><div class=\"sk-serial\"><div class=\"sk-item\"><div class=\"sk-estimator sk-toggleable\"><input class=\"sk-toggleable__control sk-hidden--visually\" id=\"sk-estimator-id-43\" type=\"checkbox\" ><label for=\"sk-estimator-id-43\" class=\"sk-toggleable__label sk-toggleable__label-arrow\">SimpleImputer</label><div class=\"sk-toggleable__content\"><pre>SimpleImputer(strategy=&#x27;most_frequent&#x27;)</pre></div></div></div><div class=\"sk-item\"><div class=\"sk-estimator sk-toggleable\"><input class=\"sk-toggleable__control sk-hidden--visually\" id=\"sk-estimator-id-44\" type=\"checkbox\" ><label for=\"sk-estimator-id-44\" class=\"sk-toggleable__label sk-toggleable__label-arrow\">OneHotEncoder</label><div class=\"sk-toggleable__content\"><pre>OneHotEncoder(categories=[array([nan, &#x27;religious&#x27;, &#x27;Other buildings&#x27;, &#x27;school&#x27;, &#x27;residential&#x27;,\n",
       "       &#x27;Accommodation&#x27;, &#x27;office&#x27;, &#x27;stadium&#x27;, &#x27;roof&#x27;, &#x27;commercial&#x27;,\n",
       "       &#x27;dormitory&#x27;, &#x27;public&#x27;, &#x27;mall&#x27;, &#x27;hospital&#x27;, &#x27;greenhouse&#x27;, &#x27;civic&#x27;,\n",
       "       &#x27;industrial&#x27;, &#x27;university&#x27;, &#x27;kindergarten&#x27;], dtype=object),\n",
       "                          array([nan, &#x27;religious&#x27;, &#x27;residential&#x27;, &#x27;school&#x27;, &#x27;civic&#x27;, &#x27;sports&#x27;,\n",
       "       &#x27;commercial&#x27;, &#x27;agricultural&#x27;, &#x27;industrial&#x27;], dtype=object),\n",
       "                          array([nan, &#x27;others&#x27;, &#x27;residential&#x27;, &#x27;commercial&#x27;, &#x27;industrial&#x27;],\n",
       "      dtype=object)])</pre></div></div></div></div></div></div></div></div><div class=\"sk-parallel-item\"><div class=\"sk-item\"><div class=\"sk-label-container\"><div class=\"sk-label sk-toggleable\"><input class=\"sk-toggleable__control sk-hidden--visually\" id=\"sk-estimator-id-45\" type=\"checkbox\" ><label for=\"sk-estimator-id-45\" class=\"sk-toggleable__label sk-toggleable__label-arrow\">pipeline-3</label><div class=\"sk-toggleable__content\"><pre>[&#x27;lcz&#x27;, &#x27;index_right&#x27;]</pre></div></div></div><div class=\"sk-serial\"><div class=\"sk-item\"><div class=\"sk-serial\"><div class=\"sk-item\"><div class=\"sk-estimator sk-toggleable\"><input class=\"sk-toggleable__control sk-hidden--visually\" id=\"sk-estimator-id-46\" type=\"checkbox\" ><label for=\"sk-estimator-id-46\" class=\"sk-toggleable__label sk-toggleable__label-arrow\">SimpleImputer</label><div class=\"sk-toggleable__content\"><pre>SimpleImputer(strategy=&#x27;most_frequent&#x27;)</pre></div></div></div><div class=\"sk-item\"><div class=\"sk-estimator sk-toggleable\"><input class=\"sk-toggleable__control sk-hidden--visually\" id=\"sk-estimator-id-47\" type=\"checkbox\" ><label for=\"sk-estimator-id-47\" class=\"sk-toggleable__label sk-toggleable__label-arrow\">StandardScaler</label><div class=\"sk-toggleable__content\"><pre>StandardScaler()</pre></div></div></div></div></div></div></div></div></div></div><div class=\"sk-item\"><div class=\"sk-estimator sk-toggleable\"><input class=\"sk-toggleable__control sk-hidden--visually\" id=\"sk-estimator-id-48\" type=\"checkbox\" ><label for=\"sk-estimator-id-48\" class=\"sk-toggleable__label sk-toggleable__label-arrow\">SGDClassifier</label><div class=\"sk-toggleable__content\"><pre>SGDClassifier()</pre></div></div></div></div></div></div></div>"
      ],
      "text/plain": [
       "Pipeline(steps=[('columntransformer',\n",
       "                 ColumnTransformer(transformers=[('pipeline-1',\n",
       "                                                  Pipeline(steps=[('simpleimputer',\n",
       "                                                                   SimpleImputer()),\n",
       "                                                                  ('standardscaler',\n",
       "                                                                   StandardScaler())]),\n",
       "                                                  ['ntl', 'area']),\n",
       "                                                 ('pipeline-2',\n",
       "                                                  Pipeline(steps=[('simpleimputer',\n",
       "                                                                   SimpleImputer(strategy='most_frequent')),\n",
       "                                                                  ('onehotencoder',\n",
       "                                                                   OneHotEncoder(categories=[array([nan, 'religious', 'Other bui...\n",
       "       'commercial', 'agricultural', 'industrial'], dtype=object),\n",
       "                                                                                             array([nan, 'others', 'residential', 'commercial', 'industrial'],\n",
       "      dtype=object)]))]),\n",
       "                                                  <sklearn.compose._column_transformer.make_column_selector object at 0x7f2989c07f70>),\n",
       "                                                 ('pipeline-3',\n",
       "                                                  Pipeline(steps=[('simpleimputer',\n",
       "                                                                   SimpleImputer(strategy='most_frequent')),\n",
       "                                                                  ('standardscaler',\n",
       "                                                                   StandardScaler())]),\n",
       "                                                  ['lcz', 'index_right'])])),\n",
       "                ('sgdclassifier', SGDClassifier())])"
      ]
     },
     "execution_count": 93,
     "metadata": {},
     "output_type": "execute_result"
    }
   ],
   "source": [
    "model = make_pipeline( \n",
    "    preprocessor,\n",
    "    SGDClassifier()\n",
    "    )\n",
    "model.fit(X,y)"
   ]
  },
  {
   "cell_type": "markdown",
   "metadata": {},
   "source": [
    "Testing with SGDClassifier"
   ]
  },
  {
   "cell_type": "code",
   "execution_count": null,
   "metadata": {},
   "outputs": [],
   "source": [
    "X_test = test.drop('height', axis=1)\n",
    "\n",
    "model.predict(X_test, transform=preprocessor)"
   ]
  },
  {
   "cell_type": "markdown",
   "metadata": {},
   "source": [
    "`Need to fix one-hot encoding for building types`"
   ]
  },
  {
   "cell_type": "markdown",
   "metadata": {},
   "source": [
    "**Grid Search** : Model comparison and Cross Validation"
   ]
  }
 ],
 "metadata": {
  "kernelspec": {
   "display_name": "Python 3.10.4 64-bit",
   "language": "python",
   "name": "python3"
  },
  "language_info": {
   "codemirror_mode": {
    "name": "ipython",
    "version": 3
   },
   "file_extension": ".py",
   "mimetype": "text/x-python",
   "name": "python",
   "nbconvert_exporter": "python",
   "pygments_lexer": "ipython3",
   "version": "3.10.4"
  },
  "orig_nbformat": 4,
  "vscode": {
   "interpreter": {
    "hash": "916dbcbb3f70747c44a77c7bcd40155683ae19c65e1c03b4aa3499c5328201f1"
   }
  }
 },
 "nbformat": 4,
 "nbformat_minor": 2
}
