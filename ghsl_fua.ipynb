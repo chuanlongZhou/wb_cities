{
 "cells": [
  {
   "cell_type": "code",
   "execution_count": 1,
   "metadata": {},
   "outputs": [],
   "source": [
    "import os\n",
    "import json\n",
    "import numpy as np\n",
    "import pickle\n",
    "import pandas as pd\n",
    "import geopandas\n",
    "import matplotlib.pyplot as plt"
   ]
  },
  {
   "cell_type": "code",
   "execution_count": 2,
   "metadata": {},
   "outputs": [],
   "source": [
    "file = \"fua.gpkg\"\n",
    "fua = geopandas.read_file(os.path.join(\"data\", \"ghsl\",file))\n",
    "fua = fua.to_crs(\"EPSG:4326\")"
   ]
  },
  {
   "cell_type": "code",
   "execution_count": 5,
   "metadata": {},
   "outputs": [],
   "source": [
    "def get_fua(fua, city):\n",
    "    '''Returns the corresponding FUA given a city name\n",
    "\n",
    "    Args:\n",
    "        fua (geopandas dataframe): GHSL dataset\n",
    "        city (string): City name with capital first letter, eg. \"Paris\"\n",
    "    '''\n",
    "    result = fua[fua.eFUA_name==city]\n",
    "    if result is None:\n",
    "        print(\"FUA not found\")\n",
    "    return result"
   ]
  },
  {
   "cell_type": "code",
   "execution_count": 13,
   "metadata": {},
   "outputs": [],
   "source": [
    "cairo = get_fua(fua, 'Cairo')"
   ]
  },
  {
   "cell_type": "code",
   "execution_count": 87,
   "metadata": {},
   "outputs": [
    {
     "ename": "AttributeError",
     "evalue": "'CoordinateSequence' object has no attribute 'to_json'",
     "output_type": "error",
     "traceback": [
      "\u001b[0;31m---------------------------------------------------------------------------\u001b[0m",
      "\u001b[0;31mAttributeError\u001b[0m                            Traceback (most recent call last)",
      "\u001b[0;32m/tmp/ipykernel_5502/1059347636.py\u001b[0m in \u001b[0;36m<module>\u001b[0;34m\u001b[0m\n\u001b[1;32m      1\u001b[0m \u001b[0mx\u001b[0m \u001b[0;34m=\u001b[0m \u001b[0mcairo\u001b[0m\u001b[0;34m.\u001b[0m\u001b[0mgeometry\u001b[0m\u001b[0;34m.\u001b[0m\u001b[0mto_numpy\u001b[0m\u001b[0;34m(\u001b[0m\u001b[0;34m)\u001b[0m\u001b[0;34m[\u001b[0m\u001b[0;36m0\u001b[0m\u001b[0;34m]\u001b[0m\u001b[0;34m\u001b[0m\u001b[0;34m\u001b[0m\u001b[0m\n\u001b[1;32m      2\u001b[0m \u001b[0my\u001b[0m \u001b[0;34m=\u001b[0m \u001b[0mx\u001b[0m\u001b[0;34m.\u001b[0m\u001b[0mgeoms\u001b[0m\u001b[0;34m[\u001b[0m\u001b[0;36m0\u001b[0m\u001b[0;34m]\u001b[0m\u001b[0;34m.\u001b[0m\u001b[0mexterior\u001b[0m\u001b[0;34m.\u001b[0m\u001b[0mcoords\u001b[0m\u001b[0;34m\u001b[0m\u001b[0;34m\u001b[0m\u001b[0m\n\u001b[0;32m----> 3\u001b[0;31m \u001b[0my\u001b[0m\u001b[0;34m.\u001b[0m\u001b[0mto_json\u001b[0m\u001b[0;34m\u001b[0m\u001b[0;34m\u001b[0m\u001b[0m\n\u001b[0m",
      "\u001b[0;31mAttributeError\u001b[0m: 'CoordinateSequence' object has no attribute 'to_json'"
     ]
    }
   ],
   "source": [
    "x = cairo.geometry.to_numpy()[0]\n",
    "y = x.geoms[0].exterior.coords"
   ]
  },
  {
   "cell_type": "code",
   "execution_count": 107,
   "metadata": {},
   "outputs": [],
   "source": [
    "def write_json_fua(filename, fua, cities):\n",
    "    '''Populate a JSON file with the bounding boxes of cities FUA's\n",
    "\n",
    "    Args:\n",
    "        filename (string): json filename\n",
    "        fua (geopandas dataframe): fua dataframe\n",
    "        cities (list): list of cities names\n",
    "    '''\n",
    "    data = dict()\n",
    "    for city in cities:\n",
    "        city_fua = get_fua(fua, city)\n",
    "        if city_fua is not None:\n",
    "            bounds = city_fua.geometry.bounds.to_numpy()[0]\n",
    "            bounds = [\n",
    "                [bounds[3], bounds[0]],\n",
    "                [bounds[1], bounds[2]]\n",
    "            ]\n",
    "            box = dict()\n",
    "            fua_dic = dict()\n",
    "            data[city]={}\n",
    "            data[city][\"box\"] = bounds   \n",
    "            data[city][\"fua\"] = list(city_fua.geometry.to_numpy()[0].geoms[0].exterior.coords)\n",
    "            \n",
    "    with open( filename, \"w\" ) as jsonFile:\n",
    "        json.dump(data, jsonFile)"
   ]
  },
  {
   "cell_type": "code",
   "execution_count": 108,
   "metadata": {},
   "outputs": [],
   "source": [
    "cities = [\n",
    "    \"Cairo\",\n",
    "    \"Johannesburg\",\n",
    "    \"Adana\",\n",
    "    \"Ordu\",\n",
    "    \"Trabzon\",\n",
    "    \"Manisa\"\n",
    "]"
   ]
  },
  {
   "cell_type": "code",
   "execution_count": 109,
   "metadata": {},
   "outputs": [],
   "source": [
    "write_json_fua(\"bounding_box.json\", fua, cities)"
   ]
  },
  {
   "cell_type": "code",
   "execution_count": null,
   "metadata": {},
   "outputs": [],
   "source": []
  }
 ],
 "metadata": {
  "kernelspec": {
   "display_name": "Python 3.10.4 64-bit",
   "language": "python",
   "name": "python3"
  },
  "language_info": {
   "codemirror_mode": {
    "name": "ipython",
    "version": 3
   },
   "file_extension": ".py",
   "mimetype": "text/x-python",
   "name": "python",
   "nbconvert_exporter": "python",
   "pygments_lexer": "ipython3",
   "version": "3.10.4"
  },
  "orig_nbformat": 4,
  "vscode": {
   "interpreter": {
    "hash": "916dbcbb3f70747c44a77c7bcd40155683ae19c65e1c03b4aa3499c5328201f1"
   }
  }
 },
 "nbformat": 4,
 "nbformat_minor": 2
}
