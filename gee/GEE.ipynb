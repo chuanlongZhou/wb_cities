{
 "cells": [
  {
   "cell_type": "code",
   "execution_count": 1,
   "id": "4a37eac6",
   "metadata": {},
   "outputs": [],
   "source": [
    "# Earth Engine Python API\n",
    "# pip install earthengine-api\n",
    "# NEED TO AUTHENTICATE EVERY 10 DAYS FOR THE UPDATE\n",
    "import ee\n",
    "import json\n",
    "from datetime import date, timedelta\n",
    "from gee_utils import *"
   ]
  },
  {
   "cell_type": "code",
   "execution_count": 2,
   "id": "c32f98cb",
   "metadata": {},
   "outputs": [],
   "source": [
    "# ee.Authenticate()\n",
    "ee.Initialize()\n",
    "EE_TILES = 'https://earthengine.googleapis.com/map/{mapid}/{{z}}/{{x}}/{{y}}?token={token}'"
   ]
  },
  {
   "cell_type": "code",
   "execution_count": 3,
   "id": "2944fef7",
   "metadata": {},
   "outputs": [],
   "source": [
    "config = json.load(open('config.json'))\n",
    "bounding_box = json.load(open('../bounding_box.json'))"
   ]
  },
  {
   "cell_type": "code",
   "execution_count": 4,
   "id": "f8607625",
   "metadata": {},
   "outputs": [],
   "source": [
    "cities = [\n",
    "    # 'Cairo',\n",
    "    # 'Johannesburg',\n",
    "    'Adana',\n",
    "    'Manisa',\n",
    "    'Trabzon',\n",
    "    'Ordu'\n",
    "]"
   ]
  },
  {
   "cell_type": "markdown",
   "id": "68556559",
   "metadata": {},
   "source": [
    "### Gridded Population of the World \n",
    "Here we only have to download a single image (latest census by default),  \n",
    "so we don't need to specify any year"
   ]
  },
  {
   "cell_type": "code",
   "execution_count": 5,
   "id": "9203b3f9",
   "metadata": {},
   "outputs": [],
   "source": [
    "for city in cities:\n",
    "    download(city, \"gpw\")"
   ]
  },
  {
   "cell_type": "markdown",
   "id": "e851bfcf",
   "metadata": {},
   "source": [
    "Let's check that the download went well :"
   ]
  },
  {
   "cell_type": "code",
   "execution_count": 6,
   "id": "aa804d76",
   "metadata": {},
   "outputs": [
    {
     "name": "stdout",
     "output_type": "stream",
     "text": [
      "EPSG:4326  ---  (1, 19, 45)\n"
     ]
    }
   ],
   "source": [
    "import rasterio\n",
    "path = os.path.join(\"..\", \"data\", \"gpw\", \"\")\n",
    "src = rasterio.open(path+'Adana.tif')\n",
    "print(src.crs, ' --- ', src.read().shape)"
   ]
  },
  {
   "cell_type": "markdown",
   "id": "3734c0b3",
   "metadata": {},
   "source": [
    "### SENTINEL-2 Data\n",
    "This time we do need to filter the GEE Collection by date"
   ]
  },
  {
   "cell_type": "code",
   "execution_count": 7,
   "id": "44ac20db",
   "metadata": {},
   "outputs": [],
   "source": [
    "for city in cities:\n",
    "    download(city, \"s2\", '2021')"
   ]
  },
  {
   "cell_type": "code",
   "execution_count": 9,
   "id": "bc5823d2",
   "metadata": {},
   "outputs": [
    {
     "name": "stdout",
     "output_type": "stream",
     "text": [
      "EPSG:4326  ---  (3, 17, 44)\n"
     ]
    }
   ],
   "source": [
    "import rasterio\n",
    "path = os.path.join(\"..\", \"data\", \"s2\", \"\")\n",
    "src = rasterio.open(path+'Adana_2021.tif')\n",
    "print(src.crs, ' --- ', src.read().shape)"
   ]
  },
  {
   "cell_type": "markdown",
   "id": "da67ec8d",
   "metadata": {},
   "source": [
    "`You can edit the 'config' json file to add new GEE Datasets or change which band gets to be extracted`"
   ]
  }
 ],
 "metadata": {
  "kernelspec": {
   "display_name": "Python 3.10.4 64-bit",
   "language": "python",
   "name": "python3"
  },
  "language_info": {
   "codemirror_mode": {
    "name": "ipython",
    "version": 3
   },
   "file_extension": ".py",
   "mimetype": "text/x-python",
   "name": "python",
   "nbconvert_exporter": "python",
   "pygments_lexer": "ipython3",
   "version": "3.10.4"
  },
  "vscode": {
   "interpreter": {
    "hash": "916dbcbb3f70747c44a77c7bcd40155683ae19c65e1c03b4aa3499c5328201f1"
   }
  }
 },
 "nbformat": 4,
 "nbformat_minor": 5
}
