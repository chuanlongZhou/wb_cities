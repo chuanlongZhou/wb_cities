{
 "cells": [
  {
   "cell_type": "code",
   "execution_count": 1,
   "metadata": {},
   "outputs": [],
   "source": [
    "%load_ext autoreload\n",
    "%autoreload 2"
   ]
  },
  {
   "cell_type": "code",
   "execution_count": 2,
   "metadata": {},
   "outputs": [],
   "source": [
    "import warnings\n",
    "warnings.simplefilter(action='ignore', category=FutureWarning)"
   ]
  },
  {
   "cell_type": "code",
   "execution_count": 3,
   "metadata": {},
   "outputs": [],
   "source": [
    "import os\n",
    "import json\n",
    "import numpy as np\n",
    "import pickle\n",
    "import pandas as pd\n",
    "import geopandas\n",
    "import matplotlib.pyplot as plt\n",
    "import contextily as cx\n",
    "import folium\n",
    "from tqdm import trange, tqdm\n",
    "\n",
    "from polygon_compare import *"
   ]
  },
  {
   "cell_type": "code",
   "execution_count": 4,
   "metadata": {},
   "outputs": [],
   "source": [
    "# ms house data\n",
    "ordu_house = os.path.join(\"data\",\"clipped_house\",\"city_house.pkl\")\n",
    "johannesburg_house = os.path.join(\"data\",\"clipped_house\",\"Johannesburg_house.pkl\")\n",
    "cairo_house = os.path.join(\"data\",\"clipped_house\",\"Cairo_house.pkl\")\n",
    "manisa_house = os.path.join(\"data\",\"clipped_house\",\"Manisa_house.pkl\")\n",
    "adana_house = os.path.join(\"data\",\"clipped_house\",\"Adana_house.pkl\")\n",
    "trabzon_house = os.path.join(\"data\",\"clipped_house\",\"Trabzon_house.pkl\")"
   ]
  },
  {
   "cell_type": "code",
   "execution_count": 5,
   "metadata": {},
   "outputs": [],
   "source": [
    "# osm house data\n",
    "city_osm = os.path.join(\"data\",\"OSM\",\"city.pkl\")\n"
   ]
  },
  {
   "cell_type": "code",
   "execution_count": 6,
   "metadata": {},
   "outputs": [],
   "source": [
    "# osmb house data\n",
    "ordu_osmb = os.path.join(\"data\",\"OSMB\",\"Ordu.pkl\")\n"
   ]
  },
  {
   "cell_type": "code",
   "execution_count": 8,
   "metadata": {},
   "outputs": [],
   "source": [
    "df_ms = pickle.load(open(ordu_house,\"rb\"))\n",
    "df_osm = pickle.load(open(ordu_osm,\"rb\"))\n",
    "df_osmb = pickle.load(open(ordu_osmb,\"rb\"))"
   ]
  },
  {
   "cell_type": "code",
   "execution_count": 9,
   "metadata": {},
   "outputs": [],
   "source": [
    "df_osmb = df_osmb.set_crs('EPSG:4326')"
   ]
  },
  {
   "cell_type": "code",
   "execution_count": 10,
   "metadata": {},
   "outputs": [],
   "source": [
    "df_ms = df_ms.to_crs('EPSG:4326')"
   ]
  },
  {
   "cell_type": "code",
   "execution_count": 11,
   "metadata": {},
   "outputs": [
    {
     "data": {
      "text/html": [
       "<div>\n",
       "<style scoped>\n",
       "    .dataframe tbody tr th:only-of-type {\n",
       "        vertical-align: middle;\n",
       "    }\n",
       "\n",
       "    .dataframe tbody tr th {\n",
       "        vertical-align: top;\n",
       "    }\n",
       "\n",
       "    .dataframe thead th {\n",
       "        text-align: right;\n",
       "    }\n",
       "</style>\n",
       "<table border=\"1\" class=\"dataframe\">\n",
       "  <thead>\n",
       "    <tr style=\"text-align: right;\">\n",
       "      <th></th>\n",
       "      <th>geometry</th>\n",
       "      <th>density</th>\n",
       "      <th>area</th>\n",
       "    </tr>\n",
       "  </thead>\n",
       "  <tbody>\n",
       "    <tr>\n",
       "      <th>66895</th>\n",
       "      <td>POLYGON ((37.87145 40.98355, 37.87142 40.98357...</td>\n",
       "      <td>1</td>\n",
       "      <td>306.501689</td>\n",
       "    </tr>\n",
       "    <tr>\n",
       "      <th>34474</th>\n",
       "      <td>POLYGON ((37.87751 40.98569, 37.87761 40.98565...</td>\n",
       "      <td>1</td>\n",
       "      <td>127.306240</td>\n",
       "    </tr>\n",
       "    <tr>\n",
       "      <th>30161</th>\n",
       "      <td>POLYGON ((37.87267 40.99013, 37.87268 40.99020...</td>\n",
       "      <td>1</td>\n",
       "      <td>137.759693</td>\n",
       "    </tr>\n",
       "    <tr>\n",
       "      <th>90023</th>\n",
       "      <td>POLYGON ((37.87214 41.00094, 37.87213 41.00097...</td>\n",
       "      <td>1</td>\n",
       "      <td>54.777124</td>\n",
       "    </tr>\n",
       "    <tr>\n",
       "      <th>3393</th>\n",
       "      <td>POLYGON ((37.86799 41.00895, 37.86806 41.00896...</td>\n",
       "      <td>1</td>\n",
       "      <td>31.856089</td>\n",
       "    </tr>\n",
       "    <tr>\n",
       "      <th>...</th>\n",
       "      <td>...</td>\n",
       "      <td>...</td>\n",
       "      <td>...</td>\n",
       "    </tr>\n",
       "    <tr>\n",
       "      <th>18035709</th>\n",
       "      <td>POLYGON ((37.89567 40.96168, 37.89573 40.96180...</td>\n",
       "      <td>1</td>\n",
       "      <td>184.276915</td>\n",
       "    </tr>\n",
       "    <tr>\n",
       "      <th>18017693</th>\n",
       "      <td>POLYGON ((37.94008 40.96198, 37.93991 40.96197...</td>\n",
       "      <td>1</td>\n",
       "      <td>308.375871</td>\n",
       "    </tr>\n",
       "    <tr>\n",
       "      <th>18041911</th>\n",
       "      <td>POLYGON ((37.88468 40.96287, 37.88460 40.96287...</td>\n",
       "      <td>1</td>\n",
       "      <td>38.505512</td>\n",
       "    </tr>\n",
       "    <tr>\n",
       "      <th>18014246</th>\n",
       "      <td>POLYGON ((37.95953 40.92272, 37.95953 40.92265...</td>\n",
       "      <td>1</td>\n",
       "      <td>121.105482</td>\n",
       "    </tr>\n",
       "    <tr>\n",
       "      <th>18028582</th>\n",
       "      <td>POLYGON ((37.90038 40.92358, 37.90038 40.92366...</td>\n",
       "      <td>1</td>\n",
       "      <td>120.744371</td>\n",
       "    </tr>\n",
       "  </tbody>\n",
       "</table>\n",
       "<p>18195 rows × 3 columns</p>\n",
       "</div>"
      ],
      "text/plain": [
       "                                                   geometry  density  \\\n",
       "66895     POLYGON ((37.87145 40.98355, 37.87142 40.98357...        1   \n",
       "34474     POLYGON ((37.87751 40.98569, 37.87761 40.98565...        1   \n",
       "30161     POLYGON ((37.87267 40.99013, 37.87268 40.99020...        1   \n",
       "90023     POLYGON ((37.87214 41.00094, 37.87213 41.00097...        1   \n",
       "3393      POLYGON ((37.86799 41.00895, 37.86806 41.00896...        1   \n",
       "...                                                     ...      ...   \n",
       "18035709  POLYGON ((37.89567 40.96168, 37.89573 40.96180...        1   \n",
       "18017693  POLYGON ((37.94008 40.96198, 37.93991 40.96197...        1   \n",
       "18041911  POLYGON ((37.88468 40.96287, 37.88460 40.96287...        1   \n",
       "18014246  POLYGON ((37.95953 40.92272, 37.95953 40.92265...        1   \n",
       "18028582  POLYGON ((37.90038 40.92358, 37.90038 40.92366...        1   \n",
       "\n",
       "                area  \n",
       "66895     306.501689  \n",
       "34474     127.306240  \n",
       "30161     137.759693  \n",
       "90023      54.777124  \n",
       "3393       31.856089  \n",
       "...              ...  \n",
       "18035709  184.276915  \n",
       "18017693  308.375871  \n",
       "18041911   38.505512  \n",
       "18014246  121.105482  \n",
       "18028582  120.744371  \n",
       "\n",
       "[18195 rows x 3 columns]"
      ]
     },
     "execution_count": 11,
     "metadata": {},
     "output_type": "execute_result"
    }
   ],
   "source": [
    "df_ms = df_ms[df_ms[\"area\"]>30]\n",
    "df_ms"
   ]
  },
  {
   "cell_type": "code",
   "execution_count": 12,
   "metadata": {},
   "outputs": [
    {
     "data": {
      "text/html": [
       "<div>\n",
       "<style scoped>\n",
       "    .dataframe tbody tr th:only-of-type {\n",
       "        vertical-align: middle;\n",
       "    }\n",
       "\n",
       "    .dataframe tbody tr th {\n",
       "        vertical-align: top;\n",
       "    }\n",
       "\n",
       "    .dataframe thead th {\n",
       "        text-align: right;\n",
       "    }\n",
       "</style>\n",
       "<table border=\"1\" class=\"dataframe\">\n",
       "  <thead>\n",
       "    <tr style=\"text-align: right;\">\n",
       "      <th></th>\n",
       "      <th>geometry</th>\n",
       "      <th>id</th>\n",
       "      <th>type</th>\n",
       "      <th>category</th>\n",
       "      <th>tags</th>\n",
       "    </tr>\n",
       "  </thead>\n",
       "  <tbody>\n",
       "    <tr>\n",
       "      <th>2773</th>\n",
       "      <td>POLYGON ((37.89147 40.98321, 37.89170 40.98321...</td>\n",
       "      <td>639352092</td>\n",
       "      <td>way</td>\n",
       "      <td>Accommodation</td>\n",
       "      <td>{'building': 'dormitory'}</td>\n",
       "    </tr>\n",
       "    <tr>\n",
       "      <th>2774</th>\n",
       "      <td>POLYGON ((37.89508 40.96462, 37.89507 40.96464...</td>\n",
       "      <td>676562912</td>\n",
       "      <td>way</td>\n",
       "      <td>Accommodation</td>\n",
       "      <td>{'building': 'residential'}</td>\n",
       "    </tr>\n",
       "    <tr>\n",
       "      <th>2775</th>\n",
       "      <td>POLYGON ((37.89514 40.96437, 37.89513 40.96439...</td>\n",
       "      <td>676562913</td>\n",
       "      <td>way</td>\n",
       "      <td>Accommodation</td>\n",
       "      <td>{'building': 'residential'}</td>\n",
       "    </tr>\n",
       "    <tr>\n",
       "      <th>2776</th>\n",
       "      <td>POLYGON ((37.89472 40.96427, 37.89471 40.96429...</td>\n",
       "      <td>676562914</td>\n",
       "      <td>way</td>\n",
       "      <td>Accommodation</td>\n",
       "      <td>{'building': 'residential'}</td>\n",
       "    </tr>\n",
       "    <tr>\n",
       "      <th>2777</th>\n",
       "      <td>POLYGON ((37.89455 40.96452, 37.89454 40.96454...</td>\n",
       "      <td>676562915</td>\n",
       "      <td>way</td>\n",
       "      <td>Accommodation</td>\n",
       "      <td>{'building': 'residential'}</td>\n",
       "    </tr>\n",
       "    <tr>\n",
       "      <th>...</th>\n",
       "      <td>...</td>\n",
       "      <td>...</td>\n",
       "      <td>...</td>\n",
       "      <td>...</td>\n",
       "      <td>...</td>\n",
       "    </tr>\n",
       "    <tr>\n",
       "      <th>11707</th>\n",
       "      <td>POLYGON ((37.89901 40.97719, 37.89893 40.97703...</td>\n",
       "      <td>1074522919</td>\n",
       "      <td>way</td>\n",
       "      <td>Other buildings</td>\n",
       "      <td>{'building': 'yes'}</td>\n",
       "    </tr>\n",
       "    <tr>\n",
       "      <th>11708</th>\n",
       "      <td>POLYGON ((37.89415 40.98233, 37.89432 40.98227...</td>\n",
       "      <td>1074522920</td>\n",
       "      <td>way</td>\n",
       "      <td>Other buildings</td>\n",
       "      <td>{'building': 'yes'}</td>\n",
       "    </tr>\n",
       "    <tr>\n",
       "      <th>11709</th>\n",
       "      <td>POLYGON ((37.89739 40.98265, 37.89739 40.98252...</td>\n",
       "      <td>1074522921</td>\n",
       "      <td>way</td>\n",
       "      <td>Other buildings</td>\n",
       "      <td>{'building': 'yes'}</td>\n",
       "    </tr>\n",
       "    <tr>\n",
       "      <th>11710</th>\n",
       "      <td>POLYGON ((37.87447 40.98493, 37.87501 40.98490...</td>\n",
       "      <td>1075810445</td>\n",
       "      <td>way</td>\n",
       "      <td>Other buildings</td>\n",
       "      <td>{'building': 'yes', 'name': 'eski valilik bina...</td>\n",
       "    </tr>\n",
       "    <tr>\n",
       "      <th>11711</th>\n",
       "      <td>POLYGON ((37.87717 40.93782, 37.87789 40.93703...</td>\n",
       "      <td>1076675651</td>\n",
       "      <td>way</td>\n",
       "      <td>Other buildings</td>\n",
       "      <td>{'building': 'yes', 'shop': 'furniture'}</td>\n",
       "    </tr>\n",
       "  </tbody>\n",
       "</table>\n",
       "<p>1930 rows × 5 columns</p>\n",
       "</div>"
      ],
      "text/plain": [
       "                                                geometry          id type  \\\n",
       "2773   POLYGON ((37.89147 40.98321, 37.89170 40.98321...   639352092  way   \n",
       "2774   POLYGON ((37.89508 40.96462, 37.89507 40.96464...   676562912  way   \n",
       "2775   POLYGON ((37.89514 40.96437, 37.89513 40.96439...   676562913  way   \n",
       "2776   POLYGON ((37.89472 40.96427, 37.89471 40.96429...   676562914  way   \n",
       "2777   POLYGON ((37.89455 40.96452, 37.89454 40.96454...   676562915  way   \n",
       "...                                                  ...         ...  ...   \n",
       "11707  POLYGON ((37.89901 40.97719, 37.89893 40.97703...  1074522919  way   \n",
       "11708  POLYGON ((37.89415 40.98233, 37.89432 40.98227...  1074522920  way   \n",
       "11709  POLYGON ((37.89739 40.98265, 37.89739 40.98252...  1074522921  way   \n",
       "11710  POLYGON ((37.87447 40.98493, 37.87501 40.98490...  1075810445  way   \n",
       "11711  POLYGON ((37.87717 40.93782, 37.87789 40.93703...  1076675651  way   \n",
       "\n",
       "              category                                               tags  \n",
       "2773     Accommodation                          {'building': 'dormitory'}  \n",
       "2774     Accommodation                        {'building': 'residential'}  \n",
       "2775     Accommodation                        {'building': 'residential'}  \n",
       "2776     Accommodation                        {'building': 'residential'}  \n",
       "2777     Accommodation                        {'building': 'residential'}  \n",
       "...                ...                                                ...  \n",
       "11707  Other buildings                                {'building': 'yes'}  \n",
       "11708  Other buildings                                {'building': 'yes'}  \n",
       "11709  Other buildings                                {'building': 'yes'}  \n",
       "11710  Other buildings  {'building': 'yes', 'name': 'eski valilik bina...  \n",
       "11711  Other buildings           {'building': 'yes', 'shop': 'furniture'}  \n",
       "\n",
       "[1930 rows x 5 columns]"
      ]
     },
     "execution_count": 12,
     "metadata": {},
     "output_type": "execute_result"
    }
   ],
   "source": [
    "df_osm_b = df_osm[df_osm[\"type\"]==\"way\"]\n",
    "df_osm_b"
   ]
  },
  {
   "cell_type": "code",
   "execution_count": null,
   "metadata": {},
   "outputs": [],
   "source": [
    "cities = [\n",
    "    # 'Ordu',\n",
    "    # 'Manisa',\n",
    "    # 'Adana',\n",
    "    \n",
    "    # 'Johannesburg',\n",
    "    # 'Cairo',\n",
    "    # 'Trabzon',\n",
    "]\n",
    "\n",
    "for c in cities:\n",
    "    city_osm = os.path.join(\"data\",\"OSM\",f\"{c}.pkl\")\n",
    "    df_osm = pickle.load(open(city_osm,\"rb\"))\n",
    "    df_osm_b = df_osm[df_osm[\"type\"]==\"way\"]\n",
    "    \n",
    "    city_osmb = os.path.join(\"data\",\"OSMB\",f\"{c}.pkl\")\n",
    "    df_osmb = pickle.load(open(city_osmb,\"rb\"))\n",
    "    df_osmb = df_osmb.set_crs('EPSG:4326')\n",
    "    \n",
    "    print(df_osmb.shape)\n",
    "\n",
    "    df = compare_geodf(df_osmb, df_osm_b, match_one=True)\n",
    "    # df.plot()\n",
    "    df.to_pickle(f'{c}_combined_osm.pkl')"
   ]
  },
  {
   "cell_type": "code",
   "execution_count": 41,
   "metadata": {},
   "outputs": [
    {
     "name": "stdout",
     "output_type": "stream",
     "text": [
      "(2025, 14)\n"
     ]
    },
    {
     "data": {
      "text/plain": [
       "<AxesSubplot:>"
      ]
     },
     "execution_count": 41,
     "metadata": {},
     "output_type": "execute_result"
    },
    {
     "data": {
      "image/png": "[encoded data removed]",
      "text/plain": [
       "<Figure size 432x288 with 1 Axes>"
      ]
     },
     "metadata": {
      "needs_background": "light"
     },
     "output_type": "display_data"
    }
   ],
   "source": [
    "temp = pickle.load(open('Ordu_combined_osm.pkl',\"rb\"))\n",
    "print(temp.shape)\n",
    "temp.plot()"
   ]
  },
  {
   "cell_type": "code",
   "execution_count": 27,
   "metadata": {},
   "outputs": [
    {
     "name": "stdout",
     "output_type": "stream",
     "text": [
      "(5960, 10)\n"
     ]
    },
    {
     "data": {
      "text/plain": [
       "<AxesSubplot:>"
      ]
     },
     "execution_count": 27,
     "metadata": {},
     "output_type": "execute_result"
    },
    {
     "data": {
      "image/png": "[encoded data removed]",
      "text/plain": [
       "<Figure size 432x288 with 1 Axes>"
      ]
     },
     "metadata": {
      "needs_background": "light"
     },
     "output_type": "display_data"
    }
   ],
   "source": [
    "temp = pickle.load(open('Adana_combined_osm.pkl',\"rb\"))\n",
    "print(temp.shape)\n",
    "temp.plot()\n"
   ]
  },
  {
   "cell_type": "code",
   "execution_count": 30,
   "metadata": {},
   "outputs": [
    {
     "name": "stdout",
     "output_type": "stream",
     "text": [
      "(3026, 11)\n"
     ]
    },
    {
     "data": {
      "text/plain": [
       "<AxesSubplot:>"
      ]
     },
     "execution_count": 30,
     "metadata": {},
     "output_type": "execute_result"
    },
    {
     "data": {
      "image/png": "[encoded data removed]",
      "text/plain": [
       "<Figure size 432x288 with 1 Axes>"
      ]
     },
     "metadata": {
      "needs_background": "light"
     },
     "output_type": "display_data"
    }
   ],
   "source": [
    "temp = pickle.load(open('Manisa_combined_osm.pkl',\"rb\"))\n",
    "print(temp.shape)\n",
    "temp.plot()"
   ]
  },
  {
   "cell_type": "code",
   "execution_count": 48,
   "metadata": {},
   "outputs": [
    {
     "name": "stdout",
     "output_type": "stream",
     "text": [
      "(2025, 14)\n",
      "(18195, 3)\n"
     ]
    },
    {
     "name": "stderr",
     "output_type": "stream",
     "text": [
      "2025it [1:06:24,  1.97s/it][1:06:24<00:00,  2.02s/it]\n",
      "100%|██████████| 2025/2025 [1:06:24<00:00,  1.97s/it]\n",
      "18195it [23:07, 13.11it/s]95 [23:07<00:00, 10.51it/s]\n",
      "100%|██████████| 18195/18195 [23:07<00:00, 13.11it/s]\n"
     ]
    }
   ],
   "source": [
    "cities = [\n",
    "    'Ordu',\n",
    "    # 'Manisa',\n",
    "    # 'Adana',\n",
    "    \n",
    "    # 'Johannesburg',\n",
    "    # 'Cairo',\n",
    "    # 'Trabzon',\n",
    "]\n",
    "\n",
    "for c in cities:\n",
    "    city_osm_combined = os.path.join(\"data\",\"OSM_combined\",f\"{c}_combined_osm.pkl\")\n",
    "    city_osm_combined = pickle.load(open(city_osm_combined,\"rb\"))\n",
    "    \n",
    "    city_house = os.path.join(\"data\",\"clipped_house\",f\"{c}_house.pkl\")\n",
    "    df_ms = pickle.load(open(city_house,\"rb\"))\n",
    "    df_ms = df_ms[df_ms[\"area\"]>30]\n",
    "    df_ms = df_ms.to_crs('EPSG:4326')\n",
    "\n",
    "    print(city_osm_combined.shape)\n",
    "    print(df_ms.shape)\n",
    "\n",
    "    df = compare_geodf(city_osm_combined, df_ms, match_one=False)\n",
    "    # df.plot()\n",
    "    df.to_pickle(f'{c}_combined_osm_ms.pkl')\n",
    "    "
   ]
  },
  {
   "cell_type": "code",
   "execution_count": 49,
   "metadata": {},
   "outputs": [
    {
     "name": "stdout",
     "output_type": "stream",
     "text": [
      "(20218, 16)\n"
     ]
    },
    {
     "data": {
      "text/plain": [
       "<AxesSubplot:>"
      ]
     },
     "execution_count": 49,
     "metadata": {},
     "output_type": "execute_result"
    },
    {
     "data": {
      "image/png": "[encoded data removed]",
      "text/plain": [
       "<Figure size 432x288 with 1 Axes>"
      ]
     },
     "metadata": {
      "needs_background": "light"
     },
     "output_type": "display_data"
    }
   ],
   "source": [
    "temp = pickle.load(open('Ordu_combined_osm_ms.pkl',\"rb\"))\n",
    "print(temp.shape)\n",
    "temp.plot()"
   ]
  },
  {
   "cell_type": "code",
   "execution_count": 55,
   "metadata": {},
   "outputs": [
    {
     "data": {
      "text/html": [
       "<div>\n",
       "<style scoped>\n",
       "    .dataframe tbody tr th:only-of-type {\n",
       "        vertical-align: middle;\n",
       "    }\n",
       "\n",
       "    .dataframe tbody tr th {\n",
       "        vertical-align: top;\n",
       "    }\n",
       "\n",
       "    .dataframe thead th {\n",
       "        text-align: right;\n",
       "    }\n",
       "</style>\n",
       "<table border=\"1\" class=\"dataframe\">\n",
       "  <thead>\n",
       "    <tr style=\"text-align: right;\">\n",
       "      <th></th>\n",
       "      <th>geometry</th>\n",
       "      <th>orient</th>\n",
       "      <th>height</th>\n",
       "      <th>type</th>\n",
       "      <th>levels</th>\n",
       "      <th>name</th>\n",
       "      <th>roofMaterial</th>\n",
       "      <th>roofShape</th>\n",
       "      <th>roofDirection</th>\n",
       "      <th>roofColor</th>\n",
       "      <th>building</th>\n",
       "      <th>id</th>\n",
       "      <th>category</th>\n",
       "      <th>tags</th>\n",
       "      <th>area</th>\n",
       "      <th>density</th>\n",
       "    </tr>\n",
       "  </thead>\n",
       "  <tbody>\n",
       "    <tr>\n",
       "      <th>0</th>\n",
       "      <td>POLYGON ((37.859 41.015, 37.859 41.015, 37.859...</td>\n",
       "      <td>57.0</td>\n",
       "      <td>3.0</td>\n",
       "      <td>NaN</td>\n",
       "      <td>NaN</td>\n",
       "      <td>NaN</td>\n",
       "      <td>NaN</td>\n",
       "      <td>NaN</td>\n",
       "      <td>NaN</td>\n",
       "      <td>NaN</td>\n",
       "      <td>NaN</td>\n",
       "      <td>NaN</td>\n",
       "      <td>NaN</td>\n",
       "      <td>NaN</td>\n",
       "      <td>NaN</td>\n",
       "      <td>NaN</td>\n",
       "    </tr>\n",
       "    <tr>\n",
       "      <th>1</th>\n",
       "      <td>POLYGON ((37.859 41.014, 37.859 41.014, 37.859...</td>\n",
       "      <td>125.0</td>\n",
       "      <td>3.0</td>\n",
       "      <td>religious</td>\n",
       "      <td>NaN</td>\n",
       "      <td>NaN</td>\n",
       "      <td>NaN</td>\n",
       "      <td>NaN</td>\n",
       "      <td>NaN</td>\n",
       "      <td>NaN</td>\n",
       "      <td>NaN</td>\n",
       "      <td>NaN</td>\n",
       "      <td>NaN</td>\n",
       "      <td>NaN</td>\n",
       "      <td>NaN</td>\n",
       "      <td>NaN</td>\n",
       "    </tr>\n",
       "    <tr>\n",
       "      <th>2</th>\n",
       "      <td>POLYGON ((37.866 41.008, 37.866 41.008, 37.866...</td>\n",
       "      <td>52.0</td>\n",
       "      <td>3.0</td>\n",
       "      <td>way</td>\n",
       "      <td>NaN</td>\n",
       "      <td>NaN</td>\n",
       "      <td>NaN</td>\n",
       "      <td>NaN</td>\n",
       "      <td>NaN</td>\n",
       "      <td>NaN</td>\n",
       "      <td>NaN</td>\n",
       "      <td>1.014055e+09</td>\n",
       "      <td>Other buildings</td>\n",
       "      <td>{'building': 'yes'}</td>\n",
       "      <td>NaN</td>\n",
       "      <td>NaN</td>\n",
       "    </tr>\n",
       "    <tr>\n",
       "      <th>3</th>\n",
       "      <td>POLYGON ((37.866 41.007, 37.866 41.007, 37.866...</td>\n",
       "      <td>67.0</td>\n",
       "      <td>3.0</td>\n",
       "      <td>way</td>\n",
       "      <td>NaN</td>\n",
       "      <td>NaN</td>\n",
       "      <td>NaN</td>\n",
       "      <td>NaN</td>\n",
       "      <td>NaN</td>\n",
       "      <td>NaN</td>\n",
       "      <td>NaN</td>\n",
       "      <td>1.014055e+09</td>\n",
       "      <td>Other buildings</td>\n",
       "      <td>{'building': 'yes'}</td>\n",
       "      <td>NaN</td>\n",
       "      <td>NaN</td>\n",
       "    </tr>\n",
       "    <tr>\n",
       "      <th>4</th>\n",
       "      <td>POLYGON ((37.866 41.007, 37.866 41.007, 37.866...</td>\n",
       "      <td>41.0</td>\n",
       "      <td>3.0</td>\n",
       "      <td>way</td>\n",
       "      <td>NaN</td>\n",
       "      <td>NaN</td>\n",
       "      <td>NaN</td>\n",
       "      <td>NaN</td>\n",
       "      <td>NaN</td>\n",
       "      <td>NaN</td>\n",
       "      <td>NaN</td>\n",
       "      <td>1.014055e+09</td>\n",
       "      <td>Other buildings</td>\n",
       "      <td>{'building': 'yes'}</td>\n",
       "      <td>NaN</td>\n",
       "      <td>NaN</td>\n",
       "    </tr>\n",
       "    <tr>\n",
       "      <th>...</th>\n",
       "      <td>...</td>\n",
       "      <td>...</td>\n",
       "      <td>...</td>\n",
       "      <td>...</td>\n",
       "      <td>...</td>\n",
       "      <td>...</td>\n",
       "      <td>...</td>\n",
       "      <td>...</td>\n",
       "      <td>...</td>\n",
       "      <td>...</td>\n",
       "      <td>...</td>\n",
       "      <td>...</td>\n",
       "      <td>...</td>\n",
       "      <td>...</td>\n",
       "      <td>...</td>\n",
       "      <td>...</td>\n",
       "    </tr>\n",
       "    <tr>\n",
       "      <th>18035709</th>\n",
       "      <td>POLYGON ((4218526.383 4978674.158, 4218533.320...</td>\n",
       "      <td>NaN</td>\n",
       "      <td>NaN</td>\n",
       "      <td>NaN</td>\n",
       "      <td>NaN</td>\n",
       "      <td>NaN</td>\n",
       "      <td>NaN</td>\n",
       "      <td>NaN</td>\n",
       "      <td>NaN</td>\n",
       "      <td>NaN</td>\n",
       "      <td>NaN</td>\n",
       "      <td>NaN</td>\n",
       "      <td>NaN</td>\n",
       "      <td>NaN</td>\n",
       "      <td>184.276915</td>\n",
       "      <td>1.0</td>\n",
       "    </tr>\n",
       "    <tr>\n",
       "      <th>18017693</th>\n",
       "      <td>POLYGON ((4223470.880 4978717.701, 4223450.942...</td>\n",
       "      <td>NaN</td>\n",
       "      <td>NaN</td>\n",
       "      <td>NaN</td>\n",
       "      <td>NaN</td>\n",
       "      <td>NaN</td>\n",
       "      <td>NaN</td>\n",
       "      <td>NaN</td>\n",
       "      <td>NaN</td>\n",
       "      <td>NaN</td>\n",
       "      <td>NaN</td>\n",
       "      <td>NaN</td>\n",
       "      <td>NaN</td>\n",
       "      <td>NaN</td>\n",
       "      <td>308.375871</td>\n",
       "      <td>1.0</td>\n",
       "    </tr>\n",
       "    <tr>\n",
       "      <th>18041911</th>\n",
       "      <td>POLYGON ((4217303.785 4978848.721, 4217294.539...</td>\n",
       "      <td>NaN</td>\n",
       "      <td>NaN</td>\n",
       "      <td>NaN</td>\n",
       "      <td>NaN</td>\n",
       "      <td>NaN</td>\n",
       "      <td>NaN</td>\n",
       "      <td>NaN</td>\n",
       "      <td>NaN</td>\n",
       "      <td>NaN</td>\n",
       "      <td>NaN</td>\n",
       "      <td>NaN</td>\n",
       "      <td>NaN</td>\n",
       "      <td>NaN</td>\n",
       "      <td>38.505512</td>\n",
       "      <td>1.0</td>\n",
       "    </tr>\n",
       "    <tr>\n",
       "      <th>18014246</th>\n",
       "      <td>POLYGON ((4225635.634 4972954.029, 4225635.962...</td>\n",
       "      <td>NaN</td>\n",
       "      <td>NaN</td>\n",
       "      <td>NaN</td>\n",
       "      <td>NaN</td>\n",
       "      <td>NaN</td>\n",
       "      <td>NaN</td>\n",
       "      <td>NaN</td>\n",
       "      <td>NaN</td>\n",
       "      <td>NaN</td>\n",
       "      <td>NaN</td>\n",
       "      <td>NaN</td>\n",
       "      <td>NaN</td>\n",
       "      <td>NaN</td>\n",
       "      <td>121.105482</td>\n",
       "      <td>1.0</td>\n",
       "    </tr>\n",
       "    <tr>\n",
       "      <th>18028582</th>\n",
       "      <td>POLYGON ((4219051.063 4973080.705, 4219051.271...</td>\n",
       "      <td>NaN</td>\n",
       "      <td>NaN</td>\n",
       "      <td>NaN</td>\n",
       "      <td>NaN</td>\n",
       "      <td>NaN</td>\n",
       "      <td>NaN</td>\n",
       "      <td>NaN</td>\n",
       "      <td>NaN</td>\n",
       "      <td>NaN</td>\n",
       "      <td>NaN</td>\n",
       "      <td>NaN</td>\n",
       "      <td>NaN</td>\n",
       "      <td>NaN</td>\n",
       "      <td>120.744371</td>\n",
       "      <td>1.0</td>\n",
       "    </tr>\n",
       "  </tbody>\n",
       "</table>\n",
       "<p>20218 rows × 16 columns</p>\n",
       "</div>"
      ],
      "text/plain": [
       "                                                   geometry  orient  height  \\\n",
       "0         POLYGON ((37.859 41.015, 37.859 41.015, 37.859...    57.0     3.0   \n",
       "1         POLYGON ((37.859 41.014, 37.859 41.014, 37.859...   125.0     3.0   \n",
       "2         POLYGON ((37.866 41.008, 37.866 41.008, 37.866...    52.0     3.0   \n",
       "3         POLYGON ((37.866 41.007, 37.866 41.007, 37.866...    67.0     3.0   \n",
       "4         POLYGON ((37.866 41.007, 37.866 41.007, 37.866...    41.0     3.0   \n",
       "...                                                     ...     ...     ...   \n",
       "18035709  POLYGON ((4218526.383 4978674.158, 4218533.320...     NaN     NaN   \n",
       "18017693  POLYGON ((4223470.880 4978717.701, 4223450.942...     NaN     NaN   \n",
       "18041911  POLYGON ((4217303.785 4978848.721, 4217294.539...     NaN     NaN   \n",
       "18014246  POLYGON ((4225635.634 4972954.029, 4225635.962...     NaN     NaN   \n",
       "18028582  POLYGON ((4219051.063 4973080.705, 4219051.271...     NaN     NaN   \n",
       "\n",
       "               type  levels name roofMaterial roofShape  roofDirection  \\\n",
       "0               NaN     NaN  NaN          NaN       NaN            NaN   \n",
       "1         religious     NaN  NaN          NaN       NaN            NaN   \n",
       "2               way     NaN  NaN          NaN       NaN            NaN   \n",
       "3               way     NaN  NaN          NaN       NaN            NaN   \n",
       "4               way     NaN  NaN          NaN       NaN            NaN   \n",
       "...             ...     ...  ...          ...       ...            ...   \n",
       "18035709        NaN     NaN  NaN          NaN       NaN            NaN   \n",
       "18017693        NaN     NaN  NaN          NaN       NaN            NaN   \n",
       "18041911        NaN     NaN  NaN          NaN       NaN            NaN   \n",
       "18014246        NaN     NaN  NaN          NaN       NaN            NaN   \n",
       "18028582        NaN     NaN  NaN          NaN       NaN            NaN   \n",
       "\n",
       "         roofColor building            id         category  \\\n",
       "0              NaN      NaN           NaN              NaN   \n",
       "1              NaN      NaN           NaN              NaN   \n",
       "2              NaN      NaN  1.014055e+09  Other buildings   \n",
       "3              NaN      NaN  1.014055e+09  Other buildings   \n",
       "4              NaN      NaN  1.014055e+09  Other buildings   \n",
       "...            ...      ...           ...              ...   \n",
       "18035709       NaN      NaN           NaN              NaN   \n",
       "18017693       NaN      NaN           NaN              NaN   \n",
       "18041911       NaN      NaN           NaN              NaN   \n",
       "18014246       NaN      NaN           NaN              NaN   \n",
       "18028582       NaN      NaN           NaN              NaN   \n",
       "\n",
       "                         tags        area  density  \n",
       "0                         NaN         NaN      NaN  \n",
       "1                         NaN         NaN      NaN  \n",
       "2         {'building': 'yes'}         NaN      NaN  \n",
       "3         {'building': 'yes'}         NaN      NaN  \n",
       "4         {'building': 'yes'}         NaN      NaN  \n",
       "...                       ...         ...      ...  \n",
       "18035709                  NaN  184.276915      1.0  \n",
       "18017693                  NaN  308.375871      1.0  \n",
       "18041911                  NaN   38.505512      1.0  \n",
       "18014246                  NaN  121.105482      1.0  \n",
       "18028582                  NaN  120.744371      1.0  \n",
       "\n",
       "[20218 rows x 16 columns]"
      ]
     },
     "execution_count": 55,
     "metadata": {},
     "output_type": "execute_result"
    }
   ],
   "source": [
    "temp"
   ]
  },
  {
   "cell_type": "code",
   "execution_count": 6,
   "metadata": {},
   "outputs": [],
   "source": [
    "df.to_file('ordu_house.shp')"
   ]
  },
  {
   "cell_type": "code",
   "execution_count": null,
   "metadata": {},
   "outputs": [],
   "source": [
    "m = df_osm_b.explore(\n",
    "    color=\"green\",\n",
    "    name=\"OSM\"\n",
    ")\n",
    "\n",
    "df_osmb.explore(\n",
    "     m=m,\n",
    "    column=\"height\",\n",
    "    name=\"OSMB\"\n",
    ")\n",
    "\n",
    "# df_ms.explore(\n",
    "#      m=m,\n",
    "#     color=\"blue\",\n",
    "#     name=\"MS\"\n",
    "# )\n",
    "\n",
    "# combined_polygons.explore(\n",
    "#      m=m,\n",
    "#     color=\"red\",\n",
    "#     name=\"MS2\"\n",
    "# )\n",
    "\n",
    "folium.TileLayer(control=True).add_to(m)  # use folium to add alternative tiles\n",
    "folium.LayerControl().add_to(m)  # use folium to add layer control\n",
    "m"
   ]
  }
 ],
 "metadata": {
  "kernelspec": {
   "display_name": "Python 3.9.13 ('wb39_1')",
   "language": "python",
   "name": "python3"
  },
  "language_info": {
   "codemirror_mode": {
    "name": "ipython",
    "version": 3
   },
   "file_extension": ".py",
   "mimetype": "text/x-python",
   "name": "python",
   "nbconvert_exporter": "python",
   "pygments_lexer": "ipython3",
   "version": "3.9.13"
  },
  "orig_nbformat": 4,
  "vscode": {
   "interpreter": {
    "hash": "b10596a57a7fe467b2b48eb5dd99a7a84562dfd66f0b94d18dfe208a34f6946f"
   }
  }
 },
 "nbformat": 4,
 "nbformat_minor": 2
}
