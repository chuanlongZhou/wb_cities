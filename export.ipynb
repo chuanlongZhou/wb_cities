{
 "cells": [
  {
   "cell_type": "code",
   "execution_count": null,
   "metadata": {},
   "outputs": [],
   "source": [
    "%load_ext autoreload\n",
    "%autoreload 2"
   ]
  },
  {
   "cell_type": "code",
   "execution_count": null,
   "metadata": {},
   "outputs": [],
   "source": [
    "import warnings\n",
    "warnings.simplefilter(action='ignore', category=FutureWarning)\n",
    "warnings.simplefilter(action='ignore', category=RuntimeWarning)"
   ]
  },
  {
   "cell_type": "code",
   "execution_count": null,
   "metadata": {},
   "outputs": [],
   "source": [
    "import os\n",
    "import json\n",
    "import numpy as np\n",
    "import pickle\n",
    "import pandas as pd\n",
    "import geopandas\n",
    "import matplotlib.pyplot as plt\n",
    "import contextily as cx\n",
    "import folium\n",
    "from tqdm import trange, tqdm\n",
    "\n",
    "from polygon_compare import *"
   ]
  },
  {
   "cell_type": "code",
   "execution_count": null,
   "metadata": {},
   "outputs": [],
   "source": [
    "# ms house data\n",
    "ordu_house = os.path.join(\"data\",\"clipped_house\",\"city_house.pkl\")\n",
    "johannesburg_house = os.path.join(\"data\",\"clipped_house\",\"Johannesburg_house.pkl\")\n",
    "cairo_house = os.path.join(\"data\",\"clipped_house\",\"Cairo_house.pkl\")\n",
    "manisa_house = os.path.join(\"data\",\"clipped_house\",\"Manisa_house.pkl\")\n",
    "adana_house = os.path.join(\"data\",\"clipped_house\",\"Adana_house.pkl\")\n",
    "trabzon_house = os.path.join(\"data\",\"clipped_house\",\"Trabzon_house.pkl\")"
   ]
  },
  {
   "cell_type": "code",
   "execution_count": null,
   "metadata": {},
   "outputs": [],
   "source": [
    "# osm house data\n",
    "city_osm = os.path.join(\"data\",\"OSM\",\"city.pkl\")\n"
   ]
  },
  {
   "cell_type": "code",
   "execution_count": null,
   "metadata": {},
   "outputs": [],
   "source": [
    "# osmb house data\n",
    "ordu_osmb = os.path.join(\"data\",\"OSMB\",\"Ordu.pkl\")\n"
   ]
  },
  {
   "cell_type": "code",
   "execution_count": null,
   "metadata": {},
   "outputs": [],
   "source": [
    "df_ms = pickle.load(open(ordu_house,\"rb\"))\n",
    "df_osm = pickle.load(open(ordu_osm,\"rb\"))\n",
    "df_osmb = pickle.load(open(ordu_osmb,\"rb\"))"
   ]
  },
  {
   "cell_type": "code",
   "execution_count": null,
   "metadata": {},
   "outputs": [],
   "source": [
    "df_osmb = df_osmb.set_crs('EPSG:4326')\n",
    "df_ms = df_ms.to_crs('EPSG:4326')\n",
    "df_ms = df_ms[df_ms[\"area\"]>30]\n",
    "df_ms"
   ]
  },
  {
   "cell_type": "code",
   "execution_count": null,
   "metadata": {},
   "outputs": [],
   "source": [
    "df_osm_b = df_osm[df_osm[\"type\"]==\"way\"]\n",
    "df_osm_b"
   ]
  },
  {
   "cell_type": "code",
   "execution_count": null,
   "metadata": {},
   "outputs": [],
   "source": [
    "cities = [\n",
    "    # 'Ordu',\n",
    "    # 'Manisa',\n",
    "    # 'Adana',\n",
    "    \n",
    "    # 'Johannesburg',\n",
    "    # 'Cairo',\n",
    "    # 'Trabzon',\n",
    "]\n",
    "\n",
    "for c in cities:\n",
    "    city_osm = os.path.join(\"data\",\"OSM\",f\"{c}.pkl\")\n",
    "    df_osm = pickle.load(open(city_osm,\"rb\"))\n",
    "    df_osm_b = df_osm[df_osm[\"type\"]==\"way\"]\n",
    "    \n",
    "    city_osmb = os.path.join(\"data\",\"OSMB\",f\"{c}.pkl\")\n",
    "    df_osmb = pickle.load(open(city_osmb,\"rb\"))\n",
    "    df_osmb = df_osmb.set_crs('EPSG:4326')\n",
    "    \n",
    "    print(df_osmb.shape)\n",
    "\n",
    "    df = compare_geodf(df_osmb, df_osm_b, match_one=True)\n",
    "    # df.plot()\n",
    "    df.to_pickle(f'{c}_combined_osm.pkl')"
   ]
  },
  {
   "cell_type": "code",
   "execution_count": null,
   "metadata": {},
   "outputs": [],
   "source": [
    "cities = [\n",
    "    # 'Ordu',\n",
    "    'Manisa',\n",
    "    'Adana',\n",
    "    'Cairo',\n",
    "    \n",
    "    # 'Trabzon',\n",
    "    # 'Johannesburg',\n",
    "]\n",
    "\n",
    "for c in cities:\n",
    "    city_osm_combined = os.path.join(\"data\",\"OSM_combined\",f\"{c}_combined_osm.pkl\")\n",
    "    city_osm_combined = pickle.load(open(city_osm_combined,\"rb\"))\n",
    "    \n",
    "    city_house = os.path.join(\"data\",\"clipped_house\",f\"{c}_house.pkl\")\n",
    "    df_ms = pickle.load(open(city_house,\"rb\"))\n",
    "    df_ms = df_ms[df_ms[\"area\"]>30]\n",
    "    df_ms = df_ms.to_crs('EPSG:4326')\n",
    "\n",
    "    print(city_osm_combined.shape)\n",
    "    print(df_ms.shape)\n",
    "\n",
    "    df = compare_geodf2(city_osm_combined, df_ms, match_one=False)\n",
    "    # df.plot()\n",
    "    df.to_pickle(f'{c}_combined_osm_ms.pkl')\n",
    "    "
   ]
  },
  {
   "cell_type": "code",
   "execution_count": null,
   "metadata": {},
   "outputs": [],
   "source": [
    "df.to_file('ordu_house.shp')\n"
   ]
  },
  {
   "cell_type": "code",
   "execution_count": null,
   "metadata": {},
   "outputs": [],
   "source": [
    "m = df_osm_b.explore(\n",
    "    color=\"green\",\n",
    "    name=\"OSM\"\n",
    ")\n",
    "\n",
    "df_osmb.explore(\n",
    "     m=m,\n",
    "    column=\"height\",\n",
    "    name=\"OSMB\"\n",
    ")\n",
    "\n",
    "# df_ms.explore(\n",
    "#      m=m,\n",
    "#     color=\"blue\",\n",
    "#     name=\"MS\"\n",
    "# )\n",
    "\n",
    "# combined_polygons.explore(\n",
    "#      m=m,\n",
    "#     color=\"red\",\n",
    "#     name=\"MS2\"\n",
    "# )\n",
    "\n",
    "folium.TileLayer(control=True).add_to(m)  # use folium to add alternative tiles\n",
    "folium.LayerControl().add_to(m)  # use folium to add layer control\n",
    "m"
   ]
  },
  {
   "cell_type": "markdown",
   "metadata": {},
   "source": [
    "---"
   ]
  },
  {
   "cell_type": "code",
   "execution_count": null,
   "metadata": {},
   "outputs": [],
   "source": [
    "from utils import *\n",
    "from create_polygon import Create_random_polygon"
   ]
  },
  {
   "cell_type": "code",
   "execution_count": null,
   "metadata": {},
   "outputs": [],
   "source": [
    "def make_grid(polygon, edge_size):\n",
    "    \"\"\"\n",
    "    polygon : shapely.geometry\n",
    "    edge_size : length of the grid cell\n",
    "    \"\"\"\n",
    "    from itertools import product\n",
    "    import numpy as np\n",
    "    import geopandas as gpd\n",
    "    \n",
    "    bounds = polygon.bounds    \n",
    "    x_coords = np.arange(bounds[0] + edge_size/2, bounds[2], edge_size)\n",
    "    y_coords = np.arange(bounds[1] + edge_size/2, bounds[3], edge_size)\n",
    "    combinations = np.array(list(product(x_coords, y_coords)))\n",
    "    \n",
    "    squares = gpd.points_from_xy(combinations[:, 0], combinations[:, 1]).buffer(edge_size / 2, cap_style=3)\n",
    "    return gpd.GeoSeries(squares[squares.intersects(polygon)])"
   ]
  },
  {
   "cell_type": "code",
   "execution_count": null,
   "metadata": {},
   "outputs": [],
   "source": [
    "c=\"Cairo\"\n"
   ]
  },
  {
   "cell_type": "code",
   "execution_count": null,
   "metadata": {},
   "outputs": [],
   "source": [
    "ordu = pickle.load(open(os.path.join(\"data\",\"Cairo_v1.pkl\"),\"rb\"))\n"
   ]
  },
  {
   "cell_type": "code",
   "execution_count": null,
   "metadata": {},
   "outputs": [],
   "source": [
    "\n",
    "\n",
    "city_house = os.path.join(\"data\",\"clipped_house\",f\"{c}_house.pkl\")\n",
    "df_ms = pickle.load(open(city_house,\"rb\"))\n",
    "df_ms = df_ms[df_ms[\"area\"]>30]\n",
    "df_ms = df_ms.to_crs('EPSG:4326')"
   ]
  },
  {
   "cell_type": "code",
   "execution_count": null,
   "metadata": {},
   "outputs": [],
   "source": [
    "df_ms.total_bounds\n"
   ]
  },
  {
   "cell_type": "code",
   "execution_count": null,
   "metadata": {},
   "outputs": [],
   "source": [
    "box = [30.8, 29.7, 31.8, 30.4]\n",
    "box = create_polygon_from_bounds(box)\n",
    "box.bounds"
   ]
  },
  {
   "cell_type": "code",
   "execution_count": null,
   "metadata": {},
   "outputs": [],
   "source": [
    "df = ordu.inner_box.region\n",
    "p = df.dissolve()"
   ]
  },
  {
   "cell_type": "code",
   "execution_count": null,
   "metadata": {},
   "outputs": [],
   "source": [
    "boxes = make_grid(box,0.05)\n",
    "boxes.plot(edgecolor='black',)"
   ]
  },
  {
   "cell_type": "code",
   "execution_count": null,
   "metadata": {},
   "outputs": [],
   "source": [
    "df_ms.clip(boxes[0])\n"
   ]
  },
  {
   "cell_type": "code",
   "execution_count": null,
   "metadata": {},
   "outputs": [],
   "source": [
    "city_osm_combined = os.path.join(\"data\",\"OSM_combined\",f\"{c}_combined_osm.pkl\")\n",
    "city_osm_combined = pickle.load(open(city_osm_combined,\"rb\"))\n",
    "buffered = city_osm_combined.buffer(0)"
   ]
  },
  {
   "cell_type": "code",
   "execution_count": null,
   "metadata": {},
   "outputs": [],
   "source": [
    "for (i, b) in enumerate(boxes):\n",
    "    index = buffered.clip(b.buffer(0)).index\n",
    "    city_osm_combined.loc[index,\"box_index\"] = i"
   ]
  },
  {
   "cell_type": "code",
   "execution_count": null,
   "metadata": {},
   "outputs": [],
   "source": [
    "city_osm_combined.loc[index,\"box_index\"] = i\n"
   ]
  },
  {
   "cell_type": "code",
   "execution_count": null,
   "metadata": {},
   "outputs": [],
   "source": [
    "city_osm_combined[\"box_index\"].unique()\n"
   ]
  },
  {
   "cell_type": "code",
   "execution_count": null,
   "metadata": {},
   "outputs": [],
   "source": [
    "c=\"Cairo\"\n",
    "df = os.path.join(\"data\",\"OSM\",f\"{c}.pkl\")\n",
    "df = pickle.load(open(df,\"rb\"))\n",
    "df= df.to_crs(\"EPSG:3395\")"
   ]
  },
  {
   "cell_type": "code",
   "execution_count": null,
   "metadata": {},
   "outputs": [],
   "source": [
    "invalid = df[~df.is_valid].index\n"
   ]
  },
  {
   "cell_type": "code",
   "execution_count": null,
   "metadata": {},
   "outputs": [],
   "source": [
    "# res = reorder_points_90(df.loc[invalid[0]][\"geometry\"])\n",
    "df.loc[df[\"id\"]==236879520, \"geometry\"] = reorder_points_90(df.loc[df[\"id\"]==236879520,\"geometry\"].iloc[0])\n",
    "df[df[\"id\"]==236879520]"
   ]
  },
  {
   "cell_type": "code",
   "execution_count": null,
   "metadata": {},
   "outputs": [],
   "source": [
    "res = reorder_points_90(df.loc[invalid[1]][\"geometry\"])\n",
    "res"
   ]
  },
  {
   "cell_type": "code",
   "execution_count": null,
   "metadata": {},
   "outputs": [],
   "source": [
    "df= df.to_crs(\"EPSG:4326\")\n",
    "df[df[\"id\"]==236879520]\n"
   ]
  },
  {
   "cell_type": "code",
   "execution_count": null,
   "metadata": {},
   "outputs": [],
   "source": [
    "reorder_points_90(df.loc[invalid[0]][\"geometry\"]).is_valid\n"
   ]
  },
  {
   "cell_type": "code",
   "execution_count": null,
   "metadata": {},
   "outputs": [],
   "source": [
    "df.loc[invalid[0:1]].explore()\n",
    "df.loc[invalid].explore()"
   ]
  },
  {
   "cell_type": "code",
   "execution_count": null,
   "metadata": {},
   "outputs": [],
   "source": [
    "new_p = []\n",
    "for index, r in df[~df.is_valid].iterrows():\n",
    "    print(index)\n",
    "    # df.loc[index, \"geometry\"] = reorder_points(r[\"geometry\"])\n",
    "    # df.loc[index, \"geometry\"] = r[\"geometry\"].exterior.convex_hull\n",
    "    # temp = Create_random_polygon(array=list(r[\"geometry\"].exterior.coords))\n",
    "    df.loc[index, \"geometry\"] = reorder_points_90(r[\"geometry\"])\n",
    "\n",
    "    polygon_array = temp.main()\n",
    "    df.loc[index, \"geometry\"] =  Polygon(polygon_array)"
   ]
  },
  {
   "cell_type": "code",
   "execution_count": null,
   "metadata": {},
   "outputs": [],
   "source": [
    "df= df.to_crs(\"EPSG:4326\")\n",
    "df.loc[invalid].explore()"
   ]
  },
  {
   "cell_type": "code",
   "execution_count": null,
   "metadata": {},
   "outputs": [],
   "source": [
    "df.loc[invalid]"
   ]
  },
  {
   "cell_type": "code",
   "execution_count": null,
   "metadata": {},
   "outputs": [],
   "source": [
    "df.loc[[40814,40818, 40823, 40834, 40836]].explore()\n"
   ]
  },
  {
   "cell_type": "code",
   "execution_count": null,
   "metadata": {},
   "outputs": [],
   "source": [
    "c=\"Cairo\"\n",
    "df = os.path.join(\"data\",\"OSM_combined\",f\"{c}_combined_osm.pkl\")\n",
    "df = pickle.load(open(df,\"rb\"))\n",
    "df[df[\"geometry\"].isna()]\n"
   ]
  },
  {
   "cell_type": "code",
   "execution_count": null,
   "metadata": {},
   "outputs": [],
   "source": [
    "df = os.path.join(\"data\",\"OSMB\",f\"{c}.pkl\")\n",
    "df = pickle.load(open(df,\"rb\"))\n",
    "df"
   ]
  },
  {
   "cell_type": "code",
   "execution_count": null,
   "metadata": {},
   "outputs": [],
   "source": [
    "df[df[\"geometry\"].isna()]\n"
   ]
  },
  {
   "cell_type": "code",
   "execution_count": null,
   "metadata": {},
   "outputs": [],
   "source": [
    "c=\"Ordu\"\n",
    "df = os.path.join(\"data\",\"ml\",f\"{c}.pkl\")\n",
    "df = pickle.load(open(df,\"rb\"))\n"
   ]
  },
  {
   "cell_type": "code",
   "execution_count": null,
   "metadata": {},
   "outputs": [],
   "source": [
    "df[df[\"geometry\"].isna()]\n"
   ]
  },
  {
   "cell_type": "code",
   "execution_count": null,
   "metadata": {},
   "outputs": [],
   "source": [
    "c=\"Ordu\"\n",
    "df = os.path.join(\"data\",\"clipped_house\",f\"{c}_house.pkl\")\n",
    "df = pickle.load(open(df,\"rb\"))\n",
    "df"
   ]
  },
  {
   "cell_type": "code",
   "execution_count": null,
   "metadata": {},
   "outputs": [],
   "source": [
    "df.loc[[17853760]][\"geometry\"].plot()"
   ]
  },
  {
   "cell_type": "code",
   "execution_count": null,
   "metadata": {},
   "outputs": [],
   "source": [
    "paths = [\n",
    "    os.path.join(\"data\",\"OSM\"),\n",
    "    os.path.join(\"data\",\"OSMB\"),\n",
    "    os.path.join(\"data\",\"clipped_house\"),\n",
    "]\n",
    "\n",
    "df = pickle.load(open(os.path.join(paths[2],f\"{c}_labeled.pkl\"),\"rb\"))"
   ]
  },
  {
   "cell_type": "code",
   "execution_count": null,
   "metadata": {},
   "outputs": [],
   "source": [
    "df.crs\n",
    "df[df[\"box_index\"].isna()]\n"
   ]
  }
 ],
 "metadata": {
  "kernelspec": {
   "display_name": "Python 3.9.7 ('base')",
   "language": "python",
   "name": "python3"
  },
  "language_info": {
   "name": "python",
   "version": "3.9.7"
  },
  "orig_nbformat": 4,
  "vscode": {
   "interpreter": {
    "hash": "cf61418591952d289a39792795fe7ed3da7835cecc4abed7553720a1c3a6093b"
   }
  }
 },
 "nbformat": 4,
 "nbformat_minor": 2
}
