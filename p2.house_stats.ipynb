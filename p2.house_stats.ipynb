{
 "cells": [
  {
   "cell_type": "code",
   "execution_count": 1,
   "metadata": {},
   "outputs": [],
   "source": [
    "%load_ext autoreload\n",
    "%autoreload 2"
   ]
  },
  {
   "cell_type": "code",
   "execution_count": 14,
   "metadata": {},
   "outputs": [],
   "source": [
    "import os\n",
    "import geopandas\n",
    "import contextily as cx\n",
    "import matplotlib.pyplot as plt\n",
    "import pickle\n",
    "import numpy as np\n",
    "import shapely\n",
    "from shapely.geometry import Polygon\n",
    "from utils import *\n",
    "from region import Region\n",
    "import matplotlib.pyplot as plt\n",
    "import pickle"
   ]
  },
  {
   "cell_type": "code",
   "execution_count": 3,
   "metadata": {},
   "outputs": [],
   "source": [
    "plt.rcParams[\"figure.figsize\"] = (10,8)\n",
    "plt.rc('font', size=12)"
   ]
  },
  {
   "cell_type": "code",
   "execution_count": 4,
   "metadata": {},
   "outputs": [],
   "source": [
    "Ordu = pickle.load(open(os.path.join(\"data\",\"Ordu.pkl\"),\"rb\"))\n",
    "Trabzon = pickle.load(open(os.path.join(\"data\",\"Trabzon.pkl\"),\"rb\"))\n",
    "Adana = pickle.load(open(os.path.join(\"data\",\"Adana.pkl\"),\"rb\"))\n",
    "Manisa = pickle.load(open(os.path.join(\"data\",\"Manisa.pkl\"),\"rb\"))\n",
    "Johannesburg = pickle.load(open(os.path.join(\"data\",\"Johannesburg.pkl\"),\"rb\"))\n",
    "Cairo = pickle.load(open(os.path.join(\"data\",\"Cairo.pkl\"),\"rb\"))"
   ]
  },
  {
   "cell_type": "code",
   "execution_count": 6,
   "metadata": {},
   "outputs": [
    {
     "data": {
      "text/plain": [
       "<BarContainer object of 6 artists>"
      ]
     },
     "execution_count": 6,
     "metadata": {},
     "output_type": "execute_result"
    },
    {
     "data": {
      "image/png": "[encoded data removed]",
      "text/plain": [
       "<Figure size 1440x1080 with 1 Axes>"
      ]
     },
     "metadata": {
      "needs_background": "light"
     },
     "output_type": "display_data"
    }
   ],
   "source": [
    "plt.bar([\n",
    "    \"Johannesburg\",\n",
    "    \"Cairo\",\n",
    "    \"Adana\",\n",
    "    \"Manisa\",\n",
    "    \"Trabzon\",\n",
    "    \"Ordu\",\n",
    "],\n",
    "    [\n",
    "    len(Johannesburg.house),\n",
    "    len(Cairo.house),\n",
    "    len(Adana.house),\n",
    "    len(Manisa.house),\n",
    "    len(Trabzon.house),\n",
    "    len(Ordu.house),\n",
    "])\n"
   ]
  },
  {
   "cell_type": "code",
   "execution_count": 7,
   "metadata": {},
   "outputs": [
    {
     "data": {
      "text/plain": [
       "66895       POLYGON ((5573320.659 13233182.906, 5573321.95...\n",
       "34474       POLYGON ((5572641.699 13233500.291, 5572640.04...\n",
       "30161       POLYGON ((5572488.204 13232662.600, 5572479.46...\n",
       "90023       POLYGON ((5571301.159 13231590.499, 5571297.32...\n",
       "3393        POLYGON ((5570690.555 13230473.530, 5570685.61...\n",
       "                                  ...                        \n",
       "18035709    POLYGON ((5574054.449 13237341.733, 5574036.73...\n",
       "18017693    POLYGON ((5570817.510 13241126.269, 5570831.32...\n",
       "18041911    POLYGON ((5574711.451 13236285.310, 5574717.21...\n",
       "18014246    POLYGON ((5573855.596 13246533.550, 5573863.40...\n",
       "18028582    POLYGON ((5578031.010 13241371.772, 5578021.69...\n",
       "Length: 18981, dtype: geometry"
      ]
     },
     "execution_count": 7,
     "metadata": {},
     "output_type": "execute_result"
    }
   ],
   "source": [
    "Ordu.house.to_crs(\"EPSG:26717\")"
   ]
  },
  {
   "cell_type": "code",
   "execution_count": 10,
   "metadata": {},
   "outputs": [
    {
     "ename": "KeyboardInterrupt",
     "evalue": "",
     "output_type": "error",
     "traceback": [
      "\u001b[1;31m---------------------------------------------------------------------------\u001b[0m",
      "\u001b[1;31mKeyboardInterrupt\u001b[0m                         Traceback (most recent call last)",
      "\u001b[1;32me:\\proj\\wb_cities\\p2.house_stats.ipynb Cell 8\u001b[0m in \u001b[0;36m<cell line: 1>\u001b[1;34m()\u001b[0m\n\u001b[1;32m----> <a href='vscode-notebook-cell:/e%3A/proj/wb_cities/p2.house_stats.ipynb#ch0000006?line=0'>1</a>\u001b[0m plt\u001b[39m.\u001b[39mhist(Cairo\u001b[39m.\u001b[39;49mhouse\u001b[39m.\u001b[39;49mto_crs(\u001b[39m\"\u001b[39;49m\u001b[39mEPSG:26717\u001b[39;49m\u001b[39m\"\u001b[39;49m)\u001b[39m.\u001b[39marea)\n",
      "File \u001b[1;32mc:\\Users\\czhou\\anaconda3\\envs\\wb39\\lib\\site-packages\\geopandas\\geoseries.py:1117\u001b[0m, in \u001b[0;36mGeoSeries.to_crs\u001b[1;34m(self, crs, epsg)\u001b[0m\n\u001b[0;32m   1040\u001b[0m \u001b[39mdef\u001b[39;00m \u001b[39mto_crs\u001b[39m(\u001b[39mself\u001b[39m, crs\u001b[39m=\u001b[39m\u001b[39mNone\u001b[39;00m, epsg\u001b[39m=\u001b[39m\u001b[39mNone\u001b[39;00m):\n\u001b[0;32m   1041\u001b[0m     \u001b[39m\"\"\"Returns a ``GeoSeries`` with all geometries transformed to a new\u001b[39;00m\n\u001b[0;32m   1042\u001b[0m \u001b[39m    coordinate reference system.\u001b[39;00m\n\u001b[0;32m   1043\u001b[0m \n\u001b[1;32m   (...)\u001b[0m\n\u001b[0;32m   1114\u001b[0m \n\u001b[0;32m   1115\u001b[0m \u001b[39m    \"\"\"\u001b[39;00m\n\u001b[0;32m   1116\u001b[0m     \u001b[39mreturn\u001b[39;00m GeoSeries(\n\u001b[1;32m-> 1117\u001b[0m         \u001b[39mself\u001b[39;49m\u001b[39m.\u001b[39;49mvalues\u001b[39m.\u001b[39;49mto_crs(crs\u001b[39m=\u001b[39;49mcrs, epsg\u001b[39m=\u001b[39;49mepsg), index\u001b[39m=\u001b[39m\u001b[39mself\u001b[39m\u001b[39m.\u001b[39mindex, name\u001b[39m=\u001b[39m\u001b[39mself\u001b[39m\u001b[39m.\u001b[39mname\n\u001b[0;32m   1118\u001b[0m     )\n",
      "File \u001b[1;32mc:\\Users\\czhou\\anaconda3\\envs\\wb39\\lib\\site-packages\\geopandas\\array.py:767\u001b[0m, in \u001b[0;36mGeometryArray.to_crs\u001b[1;34m(self, crs, epsg)\u001b[0m\n\u001b[0;32m    763\u001b[0m     \u001b[39mreturn\u001b[39;00m \u001b[39mself\u001b[39m\n\u001b[0;32m    765\u001b[0m transformer \u001b[39m=\u001b[39m Transformer\u001b[39m.\u001b[39mfrom_crs(\u001b[39mself\u001b[39m\u001b[39m.\u001b[39mcrs, crs, always_xy\u001b[39m=\u001b[39m\u001b[39mTrue\u001b[39;00m)\n\u001b[1;32m--> 767\u001b[0m new_data \u001b[39m=\u001b[39m vectorized\u001b[39m.\u001b[39;49mtransform(\u001b[39mself\u001b[39;49m\u001b[39m.\u001b[39;49mdata, transformer\u001b[39m.\u001b[39;49mtransform)\n\u001b[0;32m    768\u001b[0m \u001b[39mreturn\u001b[39;00m GeometryArray(new_data, crs\u001b[39m=\u001b[39mcrs)\n",
      "File \u001b[1;32mc:\\Users\\czhou\\anaconda3\\envs\\wb39\\lib\\site-packages\\geopandas\\_vectorized.py:983\u001b[0m, in \u001b[0;36mtransform\u001b[1;34m(data, func)\u001b[0m\n\u001b[0;32m    981\u001b[0m         result[i] \u001b[39m=\u001b[39m geom\n\u001b[0;32m    982\u001b[0m     \u001b[39melse\u001b[39;00m:\n\u001b[1;32m--> 983\u001b[0m         result[i] \u001b[39m=\u001b[39m transform(func, geom)\n\u001b[0;32m    985\u001b[0m \u001b[39mreturn\u001b[39;00m result\n",
      "File \u001b[1;32mc:\\Users\\czhou\\anaconda3\\envs\\wb39\\lib\\site-packages\\shapely\\ops.py:305\u001b[0m, in \u001b[0;36mtransform\u001b[1;34m(func, geom)\u001b[0m\n\u001b[0;32m    302\u001b[0m     \u001b[39mreturn\u001b[39;00m \u001b[39mtype\u001b[39m(geom)(\u001b[39mzip\u001b[39m(\u001b[39m*\u001b[39mfunc(\u001b[39m*\u001b[39m\u001b[39mzip\u001b[39m(\u001b[39m*\u001b[39mgeom\u001b[39m.\u001b[39mcoords))))\n\u001b[0;32m    303\u001b[0m \u001b[39melif\u001b[39;00m geom\u001b[39m.\u001b[39mtype \u001b[39m==\u001b[39m \u001b[39m'\u001b[39m\u001b[39mPolygon\u001b[39m\u001b[39m'\u001b[39m:\n\u001b[0;32m    304\u001b[0m     shell \u001b[39m=\u001b[39m \u001b[39mtype\u001b[39m(geom\u001b[39m.\u001b[39mexterior)(\n\u001b[1;32m--> 305\u001b[0m         \u001b[39mzip\u001b[39m(\u001b[39m*\u001b[39mfunc(\u001b[39m*\u001b[39m\u001b[39mzip\u001b[39;49m(\u001b[39m*\u001b[39;49mgeom\u001b[39m.\u001b[39;49mexterior\u001b[39m.\u001b[39;49mcoords))))\n\u001b[0;32m    306\u001b[0m     holes \u001b[39m=\u001b[39m \u001b[39mlist\u001b[39m(\u001b[39mtype\u001b[39m(ring)(\u001b[39mzip\u001b[39m(\u001b[39m*\u001b[39mfunc(\u001b[39m*\u001b[39m\u001b[39mzip\u001b[39m(\u001b[39m*\u001b[39mring\u001b[39m.\u001b[39mcoords))))\n\u001b[0;32m    307\u001b[0m                  \u001b[39mfor\u001b[39;00m ring \u001b[39min\u001b[39;00m geom\u001b[39m.\u001b[39minteriors)\n\u001b[0;32m    308\u001b[0m     \u001b[39mreturn\u001b[39;00m \u001b[39mtype\u001b[39m(geom)(shell, holes)\n",
      "File \u001b[1;32mc:\\Users\\czhou\\anaconda3\\envs\\wb39\\lib\\site-packages\\shapely\\speedups\\_speedups.pyx:461\u001b[0m, in \u001b[0;36mcoordseq_iter\u001b[1;34m()\u001b[0m\n",
      "File \u001b[1;32mc:\\Users\\czhou\\anaconda3\\envs\\wb39\\lib\\site-packages\\shapely\\coords.py:52\u001b[0m, in \u001b[0;36mCoordinateSequence.__len__\u001b[1;34m(self)\u001b[0m\n\u001b[0;32m     51\u001b[0m \u001b[39mdef\u001b[39;00m \u001b[39m__len__\u001b[39m(\u001b[39mself\u001b[39m):\n\u001b[1;32m---> 52\u001b[0m     \u001b[39mself\u001b[39;49m\u001b[39m.\u001b[39;49m_update()\n\u001b[0;32m     53\u001b[0m     \u001b[39mif\u001b[39;00m \u001b[39mself\u001b[39m\u001b[39m.\u001b[39m_cseq \u001b[39mis\u001b[39;00m \u001b[39mNone\u001b[39;00m:\n\u001b[0;32m     54\u001b[0m         \u001b[39mreturn\u001b[39;00m \u001b[39m0\u001b[39m\n",
      "File \u001b[1;32mc:\\Users\\czhou\\anaconda3\\envs\\wb39\\lib\\site-packages\\shapely\\coords.py:49\u001b[0m, in \u001b[0;36mCoordinateSequence._update\u001b[1;34m(self)\u001b[0m\n\u001b[0;32m     47\u001b[0m \u001b[39melse\u001b[39;00m:\n\u001b[0;32m     48\u001b[0m     \u001b[39mself\u001b[39m\u001b[39m.\u001b[39m_ndim \u001b[39m=\u001b[39m \u001b[39mself\u001b[39m\u001b[39m.\u001b[39m__p__\u001b[39m.\u001b[39m_ndim\n\u001b[1;32m---> 49\u001b[0m     \u001b[39mself\u001b[39m\u001b[39m.\u001b[39m_cseq \u001b[39m=\u001b[39m lgeos\u001b[39m.\u001b[39;49mGEOSGeom_getCoordSeq(\u001b[39mself\u001b[39;49m\u001b[39m.\u001b[39;49m__p__\u001b[39m.\u001b[39;49m_geom)\n",
      "\u001b[1;31mKeyboardInterrupt\u001b[0m: "
     ]
    }
   ],
   "source": [
    "plt.hist(Cairo.house.to_crs(\"EPSG:26717\").area)"
   ]
  },
  {
   "cell_type": "code",
   "execution_count": 8,
   "metadata": {},
   "outputs": [
    {
     "data": {
      "text/plain": [
       "<Geographic 2D CRS: EPSG:4326>\n",
       "Name: WGS 84\n",
       "Axis Info [ellipsoidal]:\n",
       "- Lat[north]: Geodetic latitude (degree)\n",
       "- Lon[east]: Geodetic longitude (degree)\n",
       "Area of Use:\n",
       "- name: World.\n",
       "- bounds: (-180.0, -90.0, 180.0, 90.0)\n",
       "Datum: World Geodetic System 1984 ensemble\n",
       "- Ellipsoid: WGS 84\n",
       "- Prime Meridian: Greenwich"
      ]
     },
     "execution_count": 8,
     "metadata": {},
     "output_type": "execute_result"
    }
   ],
   "source": [
    "Cairo.house.crs"
   ]
  },
  {
   "cell_type": "code",
   "execution_count": 13,
   "metadata": {},
   "outputs": [],
   "source": [
    "xmin, ymin, xmax, ymax= Ordu.region.total_bounds"
   ]
  },
  {
   "cell_type": "code",
   "execution_count": 15,
   "metadata": {},
   "outputs": [],
   "source": [
    "n_cells=30\n",
    "cell_size = (xmax-xmin)/n_cells\n",
    "# projection of the grid\n",
    "crs = \"+proj=sinu +lon_0=0 +x_0=0 +y_0=0 +a=6371007.181 +b=6371007.181 +units=m +no_defs\"\n",
    "# create the cells in a loop\n",
    "grid_cells = []\n",
    "for x0 in np.arange(xmin, xmax+cell_size, cell_size ):\n",
    "    for y0 in np.arange(ymin, ymax+cell_size, cell_size):\n",
    "        # bounds\n",
    "        x1 = x0-cell_size\n",
    "        y1 = y0+cell_size\n",
    "        grid_cells.append( shapely.geometry.box(x0, y0, x1, y1)  )\n",
    "cell = geopandas.GeoDataFrame(grid_cells, columns=['geometry'], \n",
    "                                 crs=crs)"
   ]
  },
  {
   "cell_type": "code",
   "execution_count": 18,
   "metadata": {},
   "outputs": [
    {
     "data": {
      "text/plain": [
       "66895       POLYGON ((37.87145 40.98355, 37.87142 40.98357...\n",
       "34474       POLYGON ((37.87751 40.98569, 37.87761 40.98565...\n",
       "30161       POLYGON ((37.87267 40.99013, 37.87268 40.99020...\n",
       "90023       POLYGON ((37.87214 41.00094, 37.87213 41.00097...\n",
       "3393        POLYGON ((37.86799 41.00895, 37.86806 41.00896...\n",
       "                                  ...                        \n",
       "18035709    POLYGON ((37.89567 40.96168, 37.89573 40.96180...\n",
       "18017693    POLYGON ((37.94008 40.96198, 37.93991 40.96197...\n",
       "18041911    POLYGON ((37.88468 40.96287, 37.88460 40.96287...\n",
       "18014246    POLYGON ((37.95953 40.92272, 37.95953 40.92265...\n",
       "18028582    POLYGON ((37.90038 40.92358, 37.90038 40.92366...\n",
       "Length: 18981, dtype: geometry"
      ]
     },
     "execution_count": 18,
     "metadata": {},
     "output_type": "execute_result"
    }
   ],
   "source": [
    "Ordu.house"
   ]
  },
  {
   "cell_type": "code",
   "execution_count": 17,
   "metadata": {},
   "outputs": [
    {
     "data": {
      "text/html": [
       "<div>\n",
       "<style scoped>\n",
       "    .dataframe tbody tr th:only-of-type {\n",
       "        vertical-align: middle;\n",
       "    }\n",
       "\n",
       "    .dataframe tbody tr th {\n",
       "        vertical-align: top;\n",
       "    }\n",
       "\n",
       "    .dataframe thead th {\n",
       "        text-align: right;\n",
       "    }\n",
       "</style>\n",
       "<table border=\"1\" class=\"dataframe\">\n",
       "  <thead>\n",
       "    <tr style=\"text-align: right;\">\n",
       "      <th></th>\n",
       "      <th>geometry</th>\n",
       "    </tr>\n",
       "  </thead>\n",
       "  <tbody>\n",
       "    <tr>\n",
       "      <th>0</th>\n",
       "      <td>POLYGON ((37.854 40.922, 37.854 40.928, 37.860...</td>\n",
       "    </tr>\n",
       "    <tr>\n",
       "      <th>1</th>\n",
       "      <td>POLYGON ((37.854 40.928, 37.854 40.934, 37.860...</td>\n",
       "    </tr>\n",
       "    <tr>\n",
       "      <th>2</th>\n",
       "      <td>POLYGON ((37.854 40.934, 37.854 40.940, 37.860...</td>\n",
       "    </tr>\n",
       "    <tr>\n",
       "      <th>3</th>\n",
       "      <td>POLYGON ((37.854 40.940, 37.854 40.946, 37.860...</td>\n",
       "    </tr>\n",
       "    <tr>\n",
       "      <th>4</th>\n",
       "      <td>POLYGON ((37.854 40.946, 37.854 40.952, 37.860...</td>\n",
       "    </tr>\n",
       "    <tr>\n",
       "      <th>...</th>\n",
       "      <td>...</td>\n",
       "    </tr>\n",
       "    <tr>\n",
       "      <th>553</th>\n",
       "      <td>POLYGON ((38.028 40.998, 38.028 41.004, 38.034...</td>\n",
       "    </tr>\n",
       "    <tr>\n",
       "      <th>554</th>\n",
       "      <td>POLYGON ((38.028 41.004, 38.028 41.010, 38.034...</td>\n",
       "    </tr>\n",
       "    <tr>\n",
       "      <th>555</th>\n",
       "      <td>POLYGON ((38.028 41.010, 38.028 41.015, 38.034...</td>\n",
       "    </tr>\n",
       "    <tr>\n",
       "      <th>556</th>\n",
       "      <td>POLYGON ((38.028 41.015, 38.028 41.021, 38.034...</td>\n",
       "    </tr>\n",
       "    <tr>\n",
       "      <th>557</th>\n",
       "      <td>POLYGON ((38.028 41.021, 38.028 41.027, 38.034...</td>\n",
       "    </tr>\n",
       "  </tbody>\n",
       "</table>\n",
       "<p>558 rows × 1 columns</p>\n",
       "</div>"
      ],
      "text/plain": [
       "                                              geometry\n",
       "0    POLYGON ((37.854 40.922, 37.854 40.928, 37.860...\n",
       "1    POLYGON ((37.854 40.928, 37.854 40.934, 37.860...\n",
       "2    POLYGON ((37.854 40.934, 37.854 40.940, 37.860...\n",
       "3    POLYGON ((37.854 40.940, 37.854 40.946, 37.860...\n",
       "4    POLYGON ((37.854 40.946, 37.854 40.952, 37.860...\n",
       "..                                                 ...\n",
       "553  POLYGON ((38.028 40.998, 38.028 41.004, 38.034...\n",
       "554  POLYGON ((38.028 41.004, 38.028 41.010, 38.034...\n",
       "555  POLYGON ((38.028 41.010, 38.028 41.015, 38.034...\n",
       "556  POLYGON ((38.028 41.015, 38.028 41.021, 38.034...\n",
       "557  POLYGON ((38.028 41.021, 38.028 41.027, 38.034...\n",
       "\n",
       "[558 rows x 1 columns]"
      ]
     },
     "execution_count": 17,
     "metadata": {},
     "output_type": "execute_result"
    }
   ],
   "source": [
    "cell"
   ]
  },
  {
   "cell_type": "code",
   "execution_count": 16,
   "metadata": {},
   "outputs": [
    {
     "data": {
      "text/plain": [
       "(37.85105824893853, 38.04258323988959, 40.91780788718258, 41.020938359753245)"
      ]
     },
     "execution_count": 16,
     "metadata": {},
     "output_type": "execute_result"
    },
    {
     "data": {
      "image/png": "[encoded data removed]",
      "text/plain": [
       "<Figure size 864x576 with 1 Axes>"
      ]
     },
     "metadata": {
      "needs_background": "light"
     },
     "output_type": "display_data"
    }
   ],
   "source": [
    "ax = Ordu.region.plot(markersize=.1, figsize=(12, 8))\n",
    "plt.autoscale(False)\n",
    "cell.plot(ax=ax, facecolor=\"none\", edgecolor='grey')\n",
    "ax.axis(\"off\")"
   ]
  }
 ],
 "metadata": {
  "kernelspec": {
   "display_name": "Python 3.9.12 ('wb39')",
   "language": "python",
   "name": "python3"
  },
  "language_info": {
   "codemirror_mode": {
    "name": "ipython",
    "version": 3
   },
   "file_extension": ".py",
   "mimetype": "text/x-python",
   "name": "python",
   "nbconvert_exporter": "python",
   "pygments_lexer": "ipython3",
   "version": "3.9.12"
  },
  "orig_nbformat": 4,
  "vscode": {
   "interpreter": {
    "hash": "c99a282a4d77d92e79333af7017545db48b8341ccdea4ee3a614d138d24fd022"
   }
  }
 },
 "nbformat": 4,
 "nbformat_minor": 2
}
