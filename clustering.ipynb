{
 "cells": [
  {
   "cell_type": "code",
   "execution_count": 1,
   "metadata": {},
   "outputs": [],
   "source": [
    "%load_ext autoreload\n",
    "%autoreload 2"
   ]
  },
  {
   "cell_type": "code",
   "execution_count": 168,
   "metadata": {},
   "outputs": [],
   "source": [
    "import os\n",
    "import pickle\n",
    "import geopandas\n",
    "import matplotlib.pyplot as plt\n",
    "import pandas as pd"
   ]
  },
  {
   "cell_type": "code",
   "execution_count": 169,
   "metadata": {},
   "outputs": [],
   "source": [
    "data_path = os.path.join(\"data\",\"ml\",\"Turkey.pkl\")\n",
    "df = pickle.load(open(data_path,\"rb\"))"
   ]
  },
  {
   "cell_type": "code",
   "execution_count": 170,
   "metadata": {},
   "outputs": [],
   "source": [
    "df0 = df[~df[\"type_level_1\"].isna()]\n",
    "df0 = df0[df0[\"wsf\"]!=0]"
   ]
  },
  {
   "cell_type": "code",
   "execution_count": 171,
   "metadata": {},
   "outputs": [],
   "source": [
    "for index, row in df0.iterrows():\n",
    "    tot = 0\n",
    "    df0.loc[index,\"points\"] = len(row['geometry'].exterior.coords)"
   ]
  },
  {
   "cell_type": "code",
   "execution_count": 172,
   "metadata": {},
   "outputs": [
    {
     "data": {
      "text/html": [
       "<div>\n",
       "<style scoped>\n",
       "    .dataframe tbody tr th:only-of-type {\n",
       "        vertical-align: middle;\n",
       "    }\n",
       "\n",
       "    .dataframe tbody tr th {\n",
       "        vertical-align: top;\n",
       "    }\n",
       "\n",
       "    .dataframe thead th {\n",
       "        text-align: right;\n",
       "    }\n",
       "</style>\n",
       "<table border=\"1\" class=\"dataframe\">\n",
       "  <thead>\n",
       "    <tr style=\"text-align: right;\">\n",
       "      <th></th>\n",
       "      <th>height</th>\n",
       "      <th>orient</th>\n",
       "      <th>type_level_0</th>\n",
       "      <th>density</th>\n",
       "      <th>area</th>\n",
       "      <th>source</th>\n",
       "      <th>geometry</th>\n",
       "      <th>type_level_1</th>\n",
       "      <th>type_level_2</th>\n",
       "      <th>ntl</th>\n",
       "      <th>lcz</th>\n",
       "      <th>wsf</th>\n",
       "      <th>index_right</th>\n",
       "      <th>height_ghsl</th>\n",
       "      <th>city</th>\n",
       "      <th>points</th>\n",
       "    </tr>\n",
       "  </thead>\n",
       "  <tbody>\n",
       "    <tr>\n",
       "      <th>3</th>\n",
       "      <td>3.0</td>\n",
       "      <td>67.0</td>\n",
       "      <td>Other buildings</td>\n",
       "      <td>1</td>\n",
       "      <td>907.775199</td>\n",
       "      <td>OSM</td>\n",
       "      <td>POLYGON ((37.86608 41.00655, 37.86608 41.00655...</td>\n",
       "      <td>residential</td>\n",
       "      <td>residential</td>\n",
       "      <td>17.806099</td>\n",
       "      <td>6.0</td>\n",
       "      <td>255.0</td>\n",
       "      <td>1002.0</td>\n",
       "      <td>0.294880</td>\n",
       "      <td>Ordu</td>\n",
       "      <td>5.0</td>\n",
       "    </tr>\n",
       "    <tr>\n",
       "      <th>20</th>\n",
       "      <td>3.0</td>\n",
       "      <td>103.0</td>\n",
       "      <td>Other buildings</td>\n",
       "      <td>1</td>\n",
       "      <td>227.048737</td>\n",
       "      <td>OSM</td>\n",
       "      <td>POLYGON ((37.86683 41.00785, 37.86689 41.00778...</td>\n",
       "      <td>residential</td>\n",
       "      <td>residential</td>\n",
       "      <td>18.114485</td>\n",
       "      <td>6.0</td>\n",
       "      <td>255.0</td>\n",
       "      <td>953.0</td>\n",
       "      <td>0.561674</td>\n",
       "      <td>Ordu</td>\n",
       "      <td>9.0</td>\n",
       "    </tr>\n",
       "    <tr>\n",
       "      <th>22</th>\n",
       "      <td>3.0</td>\n",
       "      <td>74.0</td>\n",
       "      <td>Other buildings</td>\n",
       "      <td>1</td>\n",
       "      <td>1764.693070</td>\n",
       "      <td>OSM</td>\n",
       "      <td>POLYGON ((37.86709 41.00749, 37.86709 41.00749...</td>\n",
       "      <td>residential</td>\n",
       "      <td>residential</td>\n",
       "      <td>18.114485</td>\n",
       "      <td>6.0</td>\n",
       "      <td>255.0</td>\n",
       "      <td>953.0</td>\n",
       "      <td>0.561674</td>\n",
       "      <td>Ordu</td>\n",
       "      <td>7.0</td>\n",
       "    </tr>\n",
       "    <tr>\n",
       "      <th>28</th>\n",
       "      <td>3.0</td>\n",
       "      <td>119.0</td>\n",
       "      <td>Other buildings</td>\n",
       "      <td>1</td>\n",
       "      <td>289.374129</td>\n",
       "      <td>OSM</td>\n",
       "      <td>POLYGON ((37.86759 41.00791, 37.86759 41.00791...</td>\n",
       "      <td>residential</td>\n",
       "      <td>residential</td>\n",
       "      <td>18.350260</td>\n",
       "      <td>6.0</td>\n",
       "      <td>255.0</td>\n",
       "      <td>954.0</td>\n",
       "      <td>0.587778</td>\n",
       "      <td>Ordu</td>\n",
       "      <td>9.0</td>\n",
       "    </tr>\n",
       "    <tr>\n",
       "      <th>30</th>\n",
       "      <td>3.0</td>\n",
       "      <td>115.0</td>\n",
       "      <td>Other buildings</td>\n",
       "      <td>1</td>\n",
       "      <td>345.895743</td>\n",
       "      <td>OSM</td>\n",
       "      <td>POLYGON ((37.86766 41.00754, 37.86766 41.00754...</td>\n",
       "      <td>residential</td>\n",
       "      <td>residential</td>\n",
       "      <td>18.350260</td>\n",
       "      <td>6.0</td>\n",
       "      <td>255.0</td>\n",
       "      <td>954.0</td>\n",
       "      <td>0.587778</td>\n",
       "      <td>Ordu</td>\n",
       "      <td>12.0</td>\n",
       "    </tr>\n",
       "  </tbody>\n",
       "</table>\n",
       "</div>"
      ],
      "text/plain": [
       "    height  orient     type_level_0  density         area source  \\\n",
       "3      3.0    67.0  Other buildings        1   907.775199    OSM   \n",
       "20     3.0   103.0  Other buildings        1   227.048737    OSM   \n",
       "22     3.0    74.0  Other buildings        1  1764.693070    OSM   \n",
       "28     3.0   119.0  Other buildings        1   289.374129    OSM   \n",
       "30     3.0   115.0  Other buildings        1   345.895743    OSM   \n",
       "\n",
       "                                             geometry type_level_1  \\\n",
       "3   POLYGON ((37.86608 41.00655, 37.86608 41.00655...  residential   \n",
       "20  POLYGON ((37.86683 41.00785, 37.86689 41.00778...  residential   \n",
       "22  POLYGON ((37.86709 41.00749, 37.86709 41.00749...  residential   \n",
       "28  POLYGON ((37.86759 41.00791, 37.86759 41.00791...  residential   \n",
       "30  POLYGON ((37.86766 41.00754, 37.86766 41.00754...  residential   \n",
       "\n",
       "   type_level_2        ntl  lcz    wsf  index_right  height_ghsl  city  points  \n",
       "3   residential  17.806099  6.0  255.0       1002.0     0.294880  Ordu     5.0  \n",
       "20  residential  18.114485  6.0  255.0        953.0     0.561674  Ordu     9.0  \n",
       "22  residential  18.114485  6.0  255.0        953.0     0.561674  Ordu     7.0  \n",
       "28  residential  18.350260  6.0  255.0        954.0     0.587778  Ordu     9.0  \n",
       "30  residential  18.350260  6.0  255.0        954.0     0.587778  Ordu    12.0  "
      ]
     },
     "execution_count": 172,
     "metadata": {},
     "output_type": "execute_result"
    }
   ],
   "source": [
    "df0.head()"
   ]
  },
  {
   "cell_type": "code",
   "execution_count": 173,
   "metadata": {},
   "outputs": [
    {
     "data": {
      "text/plain": [
       "residential    19889\n",
       "others           552\n",
       "industrial       535\n",
       "commercial        74\n",
       "Name: type_level_2, dtype: int64"
      ]
     },
     "execution_count": 173,
     "metadata": {},
     "output_type": "execute_result"
    }
   ],
   "source": [
    "df0[\"type_level_2\"].value_counts()"
   ]
  },
  {
   "cell_type": "code",
   "execution_count": 187,
   "metadata": {},
   "outputs": [
    {
     "data": {
      "text/html": [
       "<div>\n",
       "<style scoped>\n",
       "    .dataframe tbody tr th:only-of-type {\n",
       "        vertical-align: middle;\n",
       "    }\n",
       "\n",
       "    .dataframe tbody tr th {\n",
       "        vertical-align: top;\n",
       "    }\n",
       "\n",
       "    .dataframe thead th {\n",
       "        text-align: right;\n",
       "    }\n",
       "</style>\n",
       "<table border=\"1\" class=\"dataframe\">\n",
       "  <thead>\n",
       "    <tr style=\"text-align: right;\">\n",
       "      <th></th>\n",
       "      <th>area</th>\n",
       "      <th>ntl</th>\n",
       "      <th>lcz</th>\n",
       "      <th>points</th>\n",
       "    </tr>\n",
       "  </thead>\n",
       "  <tbody>\n",
       "    <tr>\n",
       "      <th>3</th>\n",
       "      <td>907.775199</td>\n",
       "      <td>17.806099</td>\n",
       "      <td>6.0</td>\n",
       "      <td>5.0</td>\n",
       "    </tr>\n",
       "    <tr>\n",
       "      <th>20</th>\n",
       "      <td>227.048737</td>\n",
       "      <td>18.114485</td>\n",
       "      <td>6.0</td>\n",
       "      <td>9.0</td>\n",
       "    </tr>\n",
       "    <tr>\n",
       "      <th>22</th>\n",
       "      <td>1764.693070</td>\n",
       "      <td>18.114485</td>\n",
       "      <td>6.0</td>\n",
       "      <td>7.0</td>\n",
       "    </tr>\n",
       "    <tr>\n",
       "      <th>28</th>\n",
       "      <td>289.374129</td>\n",
       "      <td>18.350260</td>\n",
       "      <td>6.0</td>\n",
       "      <td>9.0</td>\n",
       "    </tr>\n",
       "    <tr>\n",
       "      <th>30</th>\n",
       "      <td>345.895743</td>\n",
       "      <td>18.350260</td>\n",
       "      <td>6.0</td>\n",
       "      <td>12.0</td>\n",
       "    </tr>\n",
       "  </tbody>\n",
       "</table>\n",
       "</div>"
      ],
      "text/plain": [
       "           area        ntl  lcz  points\n",
       "3    907.775199  17.806099  6.0     5.0\n",
       "20   227.048737  18.114485  6.0     9.0\n",
       "22  1764.693070  18.114485  6.0     7.0\n",
       "28   289.374129  18.350260  6.0     9.0\n",
       "30   345.895743  18.350260  6.0    12.0"
      ]
     },
     "execution_count": 187,
     "metadata": {},
     "output_type": "execute_result"
    }
   ],
   "source": [
    "feature = [\"area\",\"ntl\",\t\"lcz\",\t\"points\"]\n",
    "data= df0[feature+[\"type_level_2\"]]\n",
    "data = data.dropna()\n",
    "X = data[feature]\n",
    "y = data[[\"type_level_2\"]]\n",
    "X.head()"
   ]
  },
  {
   "cell_type": "code",
   "execution_count": 188,
   "metadata": {},
   "outputs": [],
   "source": [
    "from sklearn.ensemble import RandomForestClassifier\n",
    "from sklearn.model_selection import train_test_split"
   ]
  },
  {
   "cell_type": "code",
   "execution_count": 189,
   "metadata": {},
   "outputs": [],
   "source": [
    "X_train, X_test, y_train, y_test = train_test_split(X, y, test_size=0.3)"
   ]
  },
  {
   "cell_type": "code",
   "execution_count": 190,
   "metadata": {},
   "outputs": [
    {
     "name": "stderr",
     "output_type": "stream",
     "text": [
      "C:\\Users\\czhou\\AppData\\Local\\Temp\\ipykernel_22480\\1123846608.py:5: DataConversionWarning: A column-vector y was passed when a 1d array was expected. Please change the shape of y to (n_samples,), for example using ravel().\n",
      "  rf.fit(X_train,y_train)\n"
     ]
    }
   ],
   "source": [
    "#Create a Gaussian Classifier\n",
    "rf=RandomForestClassifier(n_estimators=500)\n",
    "\n",
    "#Train the model using the training sets y_pred=clf.predict(X_test)\n",
    "rf.fit(X_train,y_train)\n",
    "\n",
    "y_pred=rf.predict(X_test)"
   ]
  },
  {
   "cell_type": "code",
   "execution_count": 191,
   "metadata": {},
   "outputs": [
    {
     "name": "stdout",
     "output_type": "stream",
     "text": [
      "Accuracy: 0.9537037037037037\n"
     ]
    }
   ],
   "source": [
    "from sklearn import metrics\n",
    "# Model Accuracy, how often is the classifier correct?\n",
    "print(\"Accuracy:\",metrics.accuracy_score(y_test, y_pred))"
   ]
  },
  {
   "cell_type": "code",
   "execution_count": 192,
   "metadata": {},
   "outputs": [
    {
     "data": {
      "image/png": "[encoded data removed]",
      "text/plain": [
       "<Figure size 432x288 with 1 Axes>"
      ]
     },
     "metadata": {
      "needs_background": "light"
     },
     "output_type": "display_data"
    }
   ],
   "source": [
    "from sklearn.inspection import permutation_importance\n",
    "\n",
    "result = permutation_importance(\n",
    "    rf, X_train, y_train, n_repeats=10, random_state=42, n_jobs=2\n",
    ")\n",
    "\n",
    "sorted_importances_idx = result.importances_mean.argsort()\n",
    "importances = pd.DataFrame(\n",
    "    result.importances[sorted_importances_idx].T,\n",
    "    columns=X.columns[sorted_importances_idx],\n",
    ")\n",
    "ax = importances.plot.box(vert=False, whis=10)\n",
    "ax.set_title(\"Permutation Importances (train set)\")\n",
    "ax.axvline(x=0, color=\"k\", linestyle=\"--\")\n",
    "ax.set_xlabel(\"Decrease in accuracy score\")\n",
    "ax.figure.tight_layout()"
   ]
  },
  {
   "cell_type": "code",
   "execution_count": null,
   "metadata": {},
   "outputs": [],
   "source": []
  }
 ],
 "metadata": {
  "kernelspec": {
   "display_name": "Python 3.9.13 ('wb39_1')",
   "language": "python",
   "name": "python3"
  },
  "language_info": {
   "codemirror_mode": {
    "name": "ipython",
    "version": 3
   },
   "file_extension": ".py",
   "mimetype": "text/x-python",
   "name": "python",
   "nbconvert_exporter": "python",
   "pygments_lexer": "ipython3",
   "version": "3.9.13"
  },
  "orig_nbformat": 4,
  "vscode": {
   "interpreter": {
    "hash": "b10596a57a7fe467b2b48eb5dd99a7a84562dfd66f0b94d18dfe208a34f6946f"
   }
  }
 },
 "nbformat": 4,
 "nbformat_minor": 2
}
